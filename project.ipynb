{
 "cells": [
  {
   "cell_type": "markdown",
   "metadata": {},
   "source": [
    "# Predicting House Sale Prices in Amos, Texas"
   ]
  },
  {
   "cell_type": "markdown",
   "metadata": {},
   "source": [
    "### Abstract"
   ]
  },
  {
   "cell_type": "markdown",
   "metadata": {},
   "source": [
    "The housing market is a deeply influential aspect of our economy. Banks, real-estate companies, and individuals have a large interest in predicting the selling price of a property. We focused in on a segment of the population: property sales in Amos, Texas from 2006-2010. What features, or package of features, are the forces at play in deciding a sale price. Can these features be used to accurately predict the price bracket or sale price of a property?\n",
    "\n",
    "We explored our data and the many features it contains. [*******list discoveries*******]\n",
    "We then created two models for classification: a support vector model and a random forest classifier. [*******discuss results (aka accuracy)*******] Lastly, we explored several models for a regression including: linear regression, lasso regression, ridge regression, and random forest regression. [*******discuss results (aka accuracy)*******]\n"
   ]
  }
 ],
 "metadata": {
  "kernelspec": {
   "display_name": "Python 3",
   "language": "python",
   "name": "python3"
  },
  "language_info": {
   "codemirror_mode": {
    "name": "ipython",
    "version": 3
   },
   "file_extension": ".py",
   "mimetype": "text/x-python",
   "name": "python",
   "nbconvert_exporter": "python",
   "pygments_lexer": "ipython3",
   "version": "3.7.3"
  }
 },
 "nbformat": 4,
 "nbformat_minor": 2
}
