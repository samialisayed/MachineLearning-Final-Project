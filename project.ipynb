{
 "cells": [
  {
   "cell_type": "markdown",
   "metadata": {},
   "source": [
    "# Predicting House Sale Prices in Amos, Texas"
   ]
  },
  {
   "cell_type": "markdown",
   "metadata": {},
   "source": [
    "### Abstract"
   ]
  },
  {
   "cell_type": "markdown",
   "metadata": {},
   "source": [
    "The housing market is a deeply influential aspect of our economy. Banks, real-estate companies, and individuals have a large interest in predicting the selling price of a property. We focused in on a segment of the population: property sales in Amos, Texas from 2006-2010. What features, or package of features, are the forces at play in deciding a sale price. Can these features be used to accurately predict the price bracket or sale price of a property?\n",
    "\n",
    "We explored our data and the many features it contains. [*******list discoveries*******]\n",
    "We then created two models for classification: a support vector model and a random forest classifier. [*******discuss results (aka accuracy)*******] Lastly, we explored several models for a regression including: linear regression, lasso regression, ridge regression, and random forest regression. [*******discuss results (aka accuracy)*******]\n"
   ]
  },
  {
   "cell_type": "markdown",
   "metadata": {},
   "source": [
    "### Introduction"
   ]
  },
  {
   "cell_type": "markdown",
   "metadata": {},
   "source": [
    "Our goal was to accurately predict the sale price of a property in Amos, Texas and to understand the factors that determine this price. We did this using a dataset consisting of all property sales in Amos, Texas from 2006-2010. Predicting sale price is important because the expected sale price determines factors such as bid prices and mortgage rates. The sale price of a property is the foundation for many financial decisions that run the real-estate market. After rudimentary data wrangling, such as filling NA values, we explored our data. We discovered that SalePrice is right skewed, and we, therefore deal, with the log of SalePrice, which is more normally distributed. We then analyzed feature importance using features scores from gradient boosting, a random forest, and variance. All techniques agreed that the following features are among the top 10 most influential features: ground living area, finished basement square footage, lot area, garage area, and total basement square footage. We then explored classification techniques[*** discuss classification ***]. Lastly, we developed a regressor to predict price. We explored lasso, ridge, and random forest algorithms. We analyzed the R2 score for each model on an increasing number of features according to feature importance achieved previously. These results showed that the random forest can operate at optimal accuracy with only 17 features. The ridge and lasso regression achieve near optimal accuracy at 44 features marginal increase per feature decreases greatly from there. "
   ]
  },
  {
   "cell_type": "markdown",
   "metadata": {},
   "source": [
    "### Background"
   ]
  },
  {
   "cell_type": "markdown",
   "metadata": {},
   "source": [
    "### Data"
   ]
  },
  {
   "cell_type": "markdown",
   "metadata": {},
   "source": [
    "### Methods"
   ]
  },
  {
   "cell_type": "markdown",
   "metadata": {},
   "source": [
    "### Evaluation"
   ]
  },
  {
   "cell_type": "markdown",
   "metadata": {},
   "source": [
    "### Conclussion"
   ]
  },
  {
   "cell_type": "markdown",
   "metadata": {},
   "source": [
    "### Attribution"
   ]
  },
  {
   "cell_type": "markdown",
   "metadata": {},
   "source": [
    "### Bibliography"
   ]
  },
  {
   "cell_type": "markdown",
   "metadata": {},
   "source": [
    "### Appendex"
   ]
  },
  {
   "cell_type": "code",
   "execution_count": null,
   "metadata": {},
   "outputs": [],
   "source": []
  }
 ],
 "metadata": {
  "kernelspec": {
   "display_name": "Python 3",
   "language": "python",
   "name": "python3"
  },
  "language_info": {
   "codemirror_mode": {
    "name": "ipython",
    "version": 3
   },
   "file_extension": ".py",
   "mimetype": "text/x-python",
   "name": "python",
   "nbconvert_exporter": "python",
   "pygments_lexer": "ipython3",
   "version": "3.7.3"
  }
 },
 "nbformat": 4,
 "nbformat_minor": 2
}
