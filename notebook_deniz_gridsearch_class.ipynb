{
 "cells": [
  {
   "cell_type": "code",
   "execution_count": 32,
   "metadata": {},
   "outputs": [],
   "source": [
    "import pandas as pd\n",
    "import numpy as np\n",
    "import seaborn as sns\n",
    "from matplotlib import pyplot as plt\n",
    "from sklearn.ensemble import RandomForestClassifier\n",
    "from sklearn.svm import SVC\n",
    "from sklearn.model_selection import train_test_split, cross_validate\n",
    "from sklearn.pipeline import Pipeline\n",
    "from sklearn.model_selection import GridSearchCV, cross_val_score\n",
    "from sklearn.metrics import accuracy_score, confusion_matrix, classification_report, f1_score\n",
    "from sklearn.preprocessing import StandardScaler"
   ]
  },
  {
   "cell_type": "code",
   "execution_count": 39,
   "metadata": {},
   "outputs": [],
   "source": [
    "df=pd.read_csv(\"C:/Users/Cemil Turhan/Desktop/MachineLearning_FinalProject/Numerical_train.csv\", index_col=0)"
   ]
  },
  {
   "cell_type": "code",
   "execution_count": 40,
   "metadata": {},
   "outputs": [],
   "source": [
    "target = [0 if price <= 120000 else 1 if price <= 200000 else 2 for price in df.SalePrice]\n",
    "df = df.drop(labels = 'SalePrice', axis=1).astype(\"float64\")"
   ]
  },
  {
   "cell_type": "code",
   "execution_count": 41,
   "metadata": {},
   "outputs": [],
   "source": [
    "X_train, X_test, y_train, y_test = train_test_split(df, target)"
   ]
  },
  {
   "cell_type": "markdown",
   "metadata": {},
   "source": [
    "# Hyperparameter Tuning for Classification"
   ]
  },
  {
   "cell_type": "markdown",
   "metadata": {},
   "source": [
    "### Grid Search for Random Forest"
   ]
  },
  {
   "cell_type": "code",
   "execution_count": null,
   "metadata": {},
   "outputs": [],
   "source": [
    "rf=RandomForestClassifier()\n",
    "n_estimators = [100, 300, 500, 700, 800, 900, 1000, 1200, 1350, 1500]\n",
    "max_depth = [2, 5, 10, 15, 20, 25, 30, 40, 50]\n",
    "min_samples_split = [1, 2, 4, 5, 8, 10]\n",
    "min_samples_leaf = [2, 3, 4, 5, 8, 10]\n",
    "param_grid = dict(n_estimators = n_estimators,\n",
    "                  max_depth = max_depth,\n",
    "                  min_samples_split = min_samples_split,\n",
    "                  min_samples_leaf = min_samples_leaf)\n",
    "rf_cv = GridSearchCV(estimator = rf, param_grid = param_grid, cv=5)\n",
    "rf_cv.fit(X_train, y_train)\n",
    "rf_cv.best_params_"
   ]
  },
  {
   "cell_type": "code",
   "execution_count": 6,
   "metadata": {},
   "outputs": [],
   "source": [
    "best_params_rf={'max_depth': 20,\n",
    " 'min_samples_leaf': 2,\n",
    " 'min_samples_split': 8,\n",
    " 'n_estimators': 100}"
   ]
  },
  {
   "cell_type": "markdown",
   "metadata": {},
   "source": [
    "### Grid Search for Support Vector Machine"
   ]
  },
  {
   "cell_type": "code",
   "execution_count": 7,
   "metadata": {},
   "outputs": [],
   "source": [
    "scaler = StandardScaler()\n",
    "X_train_scaled = scaler.fit_transform(X_train)"
   ]
  },
  {
   "cell_type": "code",
   "execution_count": 13,
   "metadata": {},
   "outputs": [
    {
     "data": {
      "text/plain": [
       "{'C': 0.01, 'gamma': 0.0001, 'kernel': 'linear'}"
      ]
     },
     "execution_count": 13,
     "metadata": {},
     "output_type": "execute_result"
    }
   ],
   "source": [
    "C = [0.00001, 0.0001, 0.001,  0.01, 0.1, 1, 5, 10]\n",
    "gamma = [0.0001,  0.001,  0.01, 0.1, 1, 5, 10]\n",
    "kernel=[\"linear\", \"rbf\", \"poly\",\"sigmoid\"]\n",
    "param_grid = dict(C = C,\n",
    "                  gamma = gamma, kernel=kernel)\n",
    "svm_cv = GridSearchCV(estimator = svm, param_grid = param_grid, cv=3)\n",
    "svm_cv.fit(X_train_scaled, y_train)\n",
    "svm_cv.best_params_"
   ]
  },
  {
   "cell_type": "code",
   "execution_count": 14,
   "metadata": {},
   "outputs": [],
   "source": [
    "best_params_svm={'C': 0.01, 'gamma': 0.0001, 'kernel': 'linear'}"
   ]
  },
  {
   "cell_type": "markdown",
   "metadata": {},
   "source": [
    "###  RF and SVM Models with best parameters"
   ]
  },
  {
   "cell_type": "code",
   "execution_count": 42,
   "metadata": {},
   "outputs": [],
   "source": [
    "def clf_models():\n",
    "    rf = RandomForestClassifier(max_depth=20, min_samples_leaf=2, min_samples_split=8, n_estimators=100)\n",
    "    svm= SVC(C=0.01, gamma=0.0001, kernel=\"linear\")\n",
    "    return rf, svm"
   ]
  },
  {
   "cell_type": "code",
   "execution_count": 43,
   "metadata": {},
   "outputs": [
    {
     "name": "stdout",
     "output_type": "stream",
     "text": [
      "rf accuracy 0.8418611069296\n",
      "\n",
      "\n",
      "svm accuracy 0.8555747905062975\n",
      "\n",
      "\n"
     ]
    }
   ],
   "source": [
    "for name, model in zip(['rf', 'svm'],\n",
    "                       [*clf_models()]):\n",
    "    if name == 'rf':\n",
    "        pipeline = Pipeline([('scaler', None), ('estimator', model)])\n",
    "    else:\n",
    "        pipeline = Pipeline([('scaler', StandardScaler()), ('estimator', model)])\n",
    "    scores = cross_validate(pipeline, X_train, y_train, cv=3, scoring=\"accuracy\")\n",
    "    \n",
    "    print(name, 'accuracy', scores['test_score'].mean())\n",
    "    print('\\n')"
   ]
  },
  {
   "cell_type": "code",
   "execution_count": null,
   "metadata": {},
   "outputs": [],
   "source": []
  }
 ],
 "metadata": {
  "kernelspec": {
   "display_name": "Python 3",
   "language": "python",
   "name": "python3"
  },
  "language_info": {
   "codemirror_mode": {
    "name": "ipython",
    "version": 3
   },
   "file_extension": ".py",
   "mimetype": "text/x-python",
   "name": "python",
   "nbconvert_exporter": "python",
   "pygments_lexer": "ipython3",
   "version": "3.7.6"
  }
 },
 "nbformat": 4,
 "nbformat_minor": 4
}
