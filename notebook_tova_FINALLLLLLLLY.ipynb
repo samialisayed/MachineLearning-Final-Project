{
 "cells": [
  {
   "cell_type": "code",
   "execution_count": 1,
   "metadata": {},
   "outputs": [],
   "source": [
    "import pandas as pd\n",
    "import numpy as np\n",
    "import matplotlib.pyplot as plt\n",
    "from sklearn.model_selection import train_test_split, cross_validate\n",
    "from sklearn.linear_model import Ridge, Lasso\n",
    "from sklearn.svm import SVC, SVR\n",
    "from sklearn.dummy import DummyClassifier\n",
    "from sklearn.preprocessing import StandardScaler\n",
    "from sklearn.ensemble import RandomForestClassifier, RandomForestRegressor\n",
    "from sklearn.pipeline import Pipeline\n",
    "from sklearn.metrics import accuracy_score, recall_score, precision_score, f1_score\n",
    "from project import clean_data, get_scores_ridge"
   ]
  },
  {
   "cell_type": "code",
   "execution_count": 2,
   "metadata": {},
   "outputs": [],
   "source": [
    "data = pd.read_csv('train.csv')"
   ]
  },
  {
   "cell_type": "code",
   "execution_count": 3,
   "metadata": {},
   "outputs": [],
   "source": [
    "data = clean_data(data)"
   ]
  },
  {
   "cell_type": "code",
   "execution_count": 4,
   "metadata": {},
   "outputs": [],
   "source": [
    "target = data.SalePrice"
   ]
  },
  {
   "cell_type": "code",
   "execution_count": 5,
   "metadata": {},
   "outputs": [],
   "source": [
    "data = data.drop('SalePrice', axis=1)"
   ]
  },
  {
   "cell_type": "code",
   "execution_count": 6,
   "metadata": {},
   "outputs": [],
   "source": [
    "columns = data.columns"
   ]
  },
  {
   "cell_type": "code",
   "execution_count": 7,
   "metadata": {},
   "outputs": [],
   "source": [
    "X_train, X_test, y_train, y_test = train_test_split(data, target, test_size = .3)"
   ]
  },
  {
   "cell_type": "code",
   "execution_count": 8,
   "metadata": {},
   "outputs": [],
   "source": [
    "y_train_binned = [0 if price <= 120000 else 1 if price <= 200000 else 2 for price in y_train]\n",
    "y_test_binned  = [0 if price <= 120000 else 1 if price <= 200000 else 2 for price in y_test]"
   ]
  },
  {
   "cell_type": "code",
   "execution_count": 9,
   "metadata": {},
   "outputs": [],
   "source": [
    "X_train_num = pd.get_dummies(X_train, drop_first=True)\n",
    "X_test_num  = pd.get_dummies(X_test, drop_first=True)"
   ]
  },
  {
   "cell_type": "markdown",
   "metadata": {},
   "source": [
    "# Models\n",
    "\n",
    "#### Since we do not have enough data to split also for validation set we will use k-fold for validation"
   ]
  },
  {
   "cell_type": "markdown",
   "metadata": {},
   "source": [
    "# Classification"
   ]
  },
  {
   "cell_type": "code",
   "execution_count": 10,
   "metadata": {},
   "outputs": [],
   "source": [
    "def get_validation_scores_clf(clf, X):\n",
    "    \n",
    "    scores = cross_validate(clf, X, y_train_binned, cv=5, n_jobs=-1, return_train_score=True,\n",
    "                            scoring=['f1_macro', 'recall_macro', 'precision_macro', 'accuracy'])\n",
    "    \n",
    "    for score in ['train_f1_macro', 'train_recall_macro', 'train_precision_macro', 'train_accuracy',\n",
    "                  'test_f1_macro', 'test_recall_macro', 'test_precision_macro', 'test_accuracy']:\n",
    "        print(score, scores[score].mean())\n",
    "        \n",
    "    return scores"
   ]
  },
  {
   "cell_type": "code",
   "execution_count": 11,
   "metadata": {},
   "outputs": [],
   "source": [
    "def get_test_score_clf(clf, columns=columns):\n",
    "    clf.fit(X_train_num.loc[:,columns], y_train_binned)\n",
    "    y_pred = clf.predict(X_test_num.loc[:,columns])\n",
    "    \n",
    "    f1 = f1_score(y_test_binned, y_pred, average='macro')\n",
    "    accuracy = accuracy_score(y_test_binned, y_pred)\n",
    "    recall = recall_score(y_test_binned, y_pred, average='macro')\n",
    "    precision = precision_score(y_test_binned, y_pred, average='macro')\n",
    "    \n",
    "    print('f1_score (macro)', f1)\n",
    "    print('accuracy_score', accuracy)\n",
    "    print('recall_score (macro)', recall)\n",
    "    print('precision_score (macro)', precision)\n",
    "    \n",
    "    return {'f1':f1, 'accuracy':accuracy, 'recall':recall, 'precision':precision}"
   ]
  },
  {
   "cell_type": "markdown",
   "metadata": {},
   "source": [
    "### Dummy Classifier"
   ]
  },
  {
   "cell_type": "code",
   "execution_count": 12,
   "metadata": {},
   "outputs": [],
   "source": [
    "clf_dummy = DummyClassifier('most_frequent')"
   ]
  },
  {
   "cell_type": "code",
   "execution_count": 13,
   "metadata": {
    "scrolled": true
   },
   "outputs": [
    {
     "name": "stdout",
     "output_type": "stream",
     "text": [
      "train_f1_macro 0.22524869862564012\n",
      "train_recall_macro 0.3333333333333333\n",
      "train_precision_macro 0.1700948452391081\n",
      "train_accuracy 0.5102845357173242\n",
      "test_f1_macro 0.2252502567594567\n",
      "test_recall_macro 0.3333333333333333\n",
      "test_precision_macro 0.17009735163169054\n",
      "test_accuracy 0.5102920548950717\n"
     ]
    }
   ],
   "source": [
    "val_scores_clf_dummy = get_validation_scores_clf(clf_dummy, X_train_num)"
   ]
  },
  {
   "cell_type": "code",
   "execution_count": 14,
   "metadata": {
    "scrolled": false
   },
   "outputs": [
    {
     "name": "stdout",
     "output_type": "stream",
     "text": [
      "f1_score (macro) 0.23725490196078433\n",
      "accuracy_score 0.5525114155251142\n",
      "recall_score (macro) 0.3333333333333333\n",
      "precision_score (macro) 0.18417047184170474\n"
     ]
    },
    {
     "name": "stderr",
     "output_type": "stream",
     "text": [
      "/Users/tovaschwartz/anaconda3/lib/python3.7/site-packages/pandas/core/indexing.py:1494: FutureWarning: \n",
      "Passing list-likes to .loc or [] with any missing label will raise\n",
      "KeyError in the future, you can use .reindex() as an alternative.\n",
      "\n",
      "See the documentation here:\n",
      "https://pandas.pydata.org/pandas-docs/stable/indexing.html#deprecate-loc-reindex-listlike\n",
      "  return self._getitem_tuple(key)\n",
      "/Users/tovaschwartz/anaconda3/lib/python3.7/site-packages/sklearn/metrics/classification.py:1437: UndefinedMetricWarning: F-score is ill-defined and being set to 0.0 in labels with no predicted samples.\n",
      "  'precision', 'predicted', average, warn_for)\n",
      "/Users/tovaschwartz/anaconda3/lib/python3.7/site-packages/sklearn/metrics/classification.py:1437: UndefinedMetricWarning: Precision is ill-defined and being set to 0.0 in labels with no predicted samples.\n",
      "  'precision', 'predicted', average, warn_for)\n"
     ]
    }
   ],
   "source": [
    "test_scores_clf_dummy = get_test_score_clf(clf_dummy)"
   ]
  },
  {
   "cell_type": "markdown",
   "metadata": {},
   "source": [
    "### Random Forest Classifier"
   ]
  },
  {
   "cell_type": "code",
   "execution_count": 15,
   "metadata": {},
   "outputs": [],
   "source": [
    "best_params_rfc={'max_depth': 20,\n",
    "                 'min_samples_leaf': 3,\n",
    "                 'min_samples_split': 8,\n",
    "                 'n_estimators': 100}"
   ]
  },
  {
   "cell_type": "code",
   "execution_count": 16,
   "metadata": {},
   "outputs": [],
   "source": [
    "rfc_features = ['GrLivArea', 'OverallQual', 'GarageArea', 'BsmtUnfSF', 'KitchenQual',\n",
    "                'MiscVal', '2ndFlrSF', 'LotArea', 'GarageFinish', '1stFlrSF',\n",
    "                'TotalBsmtSF']"
   ]
  },
  {
   "cell_type": "code",
   "execution_count": 17,
   "metadata": {},
   "outputs": [],
   "source": [
    "clf_rf = RandomForestClassifier(**best_params_rfc)"
   ]
  },
  {
   "cell_type": "code",
   "execution_count": 18,
   "metadata": {},
   "outputs": [
    {
     "name": "stdout",
     "output_type": "stream",
     "text": [
      "train_f1_macro 0.9289252080520323\n",
      "train_recall_macro 0.9164781388096562\n",
      "train_precision_macro 0.9444173226365556\n",
      "train_accuracy 0.9361003929797473\n",
      "test_f1_macro 0.7947946724955514\n",
      "test_recall_macro 0.7805193214293106\n",
      "test_precision_macro 0.8171581831904767\n",
      "test_accuracy 0.8110466012692974\n"
     ]
    }
   ],
   "source": [
    "val_scores_clf_rf = get_validation_scores_clf(clf_rf, X_train_num.loc[:,rfc_features])"
   ]
  },
  {
   "cell_type": "code",
   "execution_count": 19,
   "metadata": {
    "scrolled": true
   },
   "outputs": [
    {
     "name": "stdout",
     "output_type": "stream",
     "text": [
      "f1_score (macro) 0.8161222419093482\n",
      "accuracy_score 0.8401826484018264\n",
      "recall_score (macro) 0.7968377433618076\n",
      "precision_score (macro) 0.8434618197058353\n"
     ]
    }
   ],
   "source": [
    "test_scores_clf_rf = get_test_score_clf(clf_rf, rfc_features)"
   ]
  },
  {
   "cell_type": "markdown",
   "metadata": {},
   "source": [
    "### SVC Classifier"
   ]
  },
  {
   "cell_type": "code",
   "execution_count": 20,
   "metadata": {},
   "outputs": [],
   "source": [
    "best_params_svc = {'C': 0.01, 'gamma': 0.0001, 'kernel': 'linear'}"
   ]
  },
  {
   "cell_type": "code",
   "execution_count": 21,
   "metadata": {},
   "outputs": [],
   "source": [
    "svc_features = ['BsmtFinType1', 'LotArea', 'YearRemodAdd', 'GrLivArea', '2ndFlrSF',\n",
    "                '1stFlrSF', 'GarageArea', 'TotalBsmtSF', 'YearBuilt', 'BsmtFinSF1',\n",
    "                'OpenPorchSF', 'Fireplaces', 'MSZoning', 'LotFrontage', 'OverallQual',\n",
    "                'OverallCond', 'BsmtQual', 'BsmtUnfSF', 'CentralAir', 'GarageFinish',\n",
    "                'Neighborhood_Crawfor', 'EnclosedPorch', 'WoodDeckSF', 'MSSubClass',\n",
    "                'GarageYrBlt', 'ScreenPorch', 'MiscVal', 'KitchenQual', 'MasVnrArea']"
   ]
  },
  {
   "cell_type": "code",
   "execution_count": 22,
   "metadata": {},
   "outputs": [],
   "source": [
    "clf_svc = Pipeline([('scaler', StandardScaler()), ('classifier', SVC(**best_params_svc))])"
   ]
  },
  {
   "cell_type": "code",
   "execution_count": 23,
   "metadata": {},
   "outputs": [
    {
     "name": "stdout",
     "output_type": "stream",
     "text": [
      "train_f1_macro 0.8554338377716132\n",
      "train_recall_macro 0.8347929350945436\n",
      "train_precision_macro 0.8857658857375718\n",
      "train_accuracy 0.8677746154495882\n",
      "test_f1_macro 0.8364489083901765\n",
      "test_recall_macro 0.8162763078627702\n",
      "test_precision_macro 0.8736747638507797\n",
      "test_accuracy 0.8521286392842716\n"
     ]
    }
   ],
   "source": [
    "val_scores_clf_svc = get_validation_scores_clf(clf_svc, X_train_num.loc[:, svc_features])"
   ]
  },
  {
   "cell_type": "code",
   "execution_count": 24,
   "metadata": {
    "scrolled": true
   },
   "outputs": [
    {
     "name": "stdout",
     "output_type": "stream",
     "text": [
      "f1_score (macro) 0.8391661387901989\n",
      "accuracy_score 0.8538812785388128\n",
      "recall_score (macro) 0.8345139708776071\n",
      "precision_score (macro) 0.8441647187159109\n"
     ]
    }
   ],
   "source": [
    "test_scores_clf_svc = get_test_score_clf(clf_svc, svc_features)"
   ]
  },
  {
   "cell_type": "code",
   "execution_count": 25,
   "metadata": {},
   "outputs": [
    {
     "data": {
      "image/png": "[encoded data removed]",
      "text/plain": [
       "<Figure size 1152x576 with 4 Axes>"
      ]
     },
     "metadata": {
      "needs_background": "light"
     },
     "output_type": "display_data"
    }
   ],
   "source": [
    "plt.figure(figsize=(16,8))\n",
    "barWidth = 0.25\n",
    "\n",
    "#f1\n",
    "plt.subplot(2,2,1)\n",
    "val_error = [val_scores_clf_dummy['test_f1_macro'].std(),\n",
    "              val_scores_clf_rf['test_f1_macro'].std(),\n",
    "              val_scores_clf_svc['test_f1_macro'].std()]\n",
    "\n",
    "# set height of bar\n",
    "train = [val_scores_clf_dummy['train_f1_macro'].mean(),\n",
    "         val_scores_clf_rf['train_f1_macro'].mean(),\n",
    "         val_scores_clf_svc['train_f1_macro'].mean()]\n",
    "validation = [val_scores_clf_dummy['test_f1_macro'].mean(),\n",
    "              val_scores_clf_rf['test_f1_macro'].mean(),\n",
    "              val_scores_clf_svc['test_f1_macro'].mean()]\n",
    "test = [test_scores_clf_dummy['f1'], test_scores_clf_rf['f1'], test_scores_clf_svc['f1']]\n",
    "\n",
    "# Set position of bar on X axis\n",
    "r1 = np.arange(len(train))\n",
    "r2 = [x + barWidth for x in r1]\n",
    "r3 = [x + barWidth for x in r2]\n",
    " \n",
    "# Make the plot\n",
    "plt.bar(r1, train, color='#7f6d5f', width=barWidth, edgecolor='white', label='train')\n",
    "plt.bar(r2, validation, color='#557f2d', width=barWidth, edgecolor='white', label='validate', yerr=val_error)\n",
    "plt.bar(r3, test, color='#2d7f5e', width=barWidth, edgecolor='white', label='test')\n",
    " \n",
    "# Add xticks on the middle of the group bars\n",
    "plt.xlabel('f1 score', fontweight='bold')\n",
    "plt.xticks([r + barWidth for r in range(len(train))], ['Dummy', 'RandomForest', 'SVM'])\n",
    "plt.legend()\n",
    "\n",
    "#accuracy\n",
    "plt.subplot(2,2,2)\n",
    "val_error = [val_scores_clf_dummy['test_accuracy'].std(),\n",
    "              val_scores_clf_rf['test_accuracy'].std(),\n",
    "              val_scores_clf_svc['test_accuracy'].std()]\n",
    "\n",
    "# set height of bar\n",
    "train = [val_scores_clf_dummy['train_accuracy'].mean(),\n",
    "         val_scores_clf_rf['train_accuracy'].mean(),\n",
    "         val_scores_clf_svc['train_accuracy'].mean()]\n",
    "validation = [val_scores_clf_dummy['test_accuracy'].mean(),\n",
    "              val_scores_clf_rf['test_accuracy'].mean(),\n",
    "              val_scores_clf_svc['test_accuracy'].mean()]\n",
    "test = [test_scores_clf_dummy['accuracy'], test_scores_clf_rf['accuracy'], test_scores_clf_svc['accuracy']]\n",
    "\n",
    "# Set position of bar on X axis\n",
    "r1 = np.arange(len(train))\n",
    "r2 = [x + barWidth for x in r1]\n",
    "r3 = [x + barWidth for x in r2]\n",
    " \n",
    "# Make the plot\n",
    "plt.bar(r1, train, color='#7f6d5f', width=barWidth, edgecolor='white', label='train')\n",
    "plt.bar(r2, validation, color='#557f2d', width=barWidth, edgecolor='white', label='validate', yerr=val_error)\n",
    "plt.bar(r3, test, color='#2d7f5e', width=barWidth, edgecolor='white', label='test')\n",
    " \n",
    "# Add xticks on the middle of the group bars\n",
    "plt.xlabel('accuracy score', fontweight='bold')\n",
    "plt.xticks([r + barWidth for r in range(len(train))], ['Dummy', 'RandomForest', 'SVM'])\n",
    "plt.legend()\n",
    "\n",
    "#recall\n",
    "plt.subplot(2,2,3)\n",
    "val_error = [val_scores_clf_dummy['train_recall_macro'].std(),\n",
    "              val_scores_clf_rf['train_recall_macro'].std(),\n",
    "              val_scores_clf_svc['train_recall_macro'].std()]\n",
    "\n",
    "# set height of bar\n",
    "train = [val_scores_clf_dummy['train_recall_macro'].mean(),\n",
    "         val_scores_clf_rf['train_recall_macro'].mean(),\n",
    "         val_scores_clf_svc['train_recall_macro'].mean()]\n",
    "validation = [val_scores_clf_dummy['train_recall_macro'].mean(),\n",
    "              val_scores_clf_rf['train_recall_macro'].mean(),\n",
    "              val_scores_clf_svc['train_recall_macro'].mean()]\n",
    "test = [test_scores_clf_dummy['recall'], test_scores_clf_rf['recall'], test_scores_clf_svc['recall']]\n",
    "\n",
    "# Set position of bar on X axis\n",
    "r1 = np.arange(len(train))\n",
    "r2 = [x + barWidth for x in r1]\n",
    "r3 = [x + barWidth for x in r2]\n",
    " \n",
    "# Make the plot\n",
    "plt.bar(r1, train, color='#7f6d5f', width=barWidth, edgecolor='white', label='train')\n",
    "plt.bar(r2, validation, color='#557f2d', width=barWidth, edgecolor='white', label='validate', yerr=val_error)\n",
    "plt.bar(r3, test, color='#2d7f5e', width=barWidth, edgecolor='white', label='test')\n",
    " \n",
    "# Add xticks on the middle of the group bars\n",
    "plt.xlabel('recall score', fontweight='bold')\n",
    "plt.xticks([r + barWidth for r in range(len(train))], ['Dummy', 'RandomForest', 'SVM'])\n",
    "plt.legend()\n",
    "\n",
    "#precision\n",
    "plt.subplot(2,2,4)\n",
    "val_error = [val_scores_clf_dummy['train_precision_macro'].std(),\n",
    "              val_scores_clf_rf['train_precision_macro'].std(),\n",
    "              val_scores_clf_svc['train_precision_macro'].std()]\n",
    "\n",
    "# set height of bar\n",
    "train = [val_scores_clf_dummy['train_precision_macro'].mean(),\n",
    "         val_scores_clf_rf['train_precision_macro'].mean(),\n",
    "         val_scores_clf_svc['train_precision_macro'].mean()]\n",
    "validation = [val_scores_clf_dummy['train_precision_macro'].mean(),\n",
    "              val_scores_clf_rf['train_precision_macro'].mean(),\n",
    "              val_scores_clf_svc['train_precision_macro'].mean()]\n",
    "test = [test_scores_clf_dummy['precision'], test_scores_clf_rf['precision'], test_scores_clf_svc['precision']]\n",
    "\n",
    "# Set position of bar on X axis\n",
    "r1 = np.arange(len(train))\n",
    "r2 = [x + barWidth for x in r1]\n",
    "r3 = [x + barWidth for x in r2]\n",
    " \n",
    "# Make the plot\n",
    "plt.bar(r1, train, color='#7f6d5f', width=barWidth, edgecolor='white', label='train');\n",
    "plt.bar(r2, validation, color='#557f2d', width=barWidth, edgecolor='white', label='validate', yerr=val_error);\n",
    "plt.bar(r3, test, color='#2d7f5e', width=barWidth, edgecolor='white', label='test');\n",
    " \n",
    "# Add xticks on the middle of the group bars\n",
    "plt.xlabel('precision score', fontweight='bold');\n",
    "plt.xticks([r + barWidth for r in range(len(train))], ['Dummy', 'RandomForest', 'SVM']);\n",
    "plt.legend();\n",
    "\n"
   ]
  },
  {
   "cell_type": "markdown",
   "metadata": {},
   "source": [
    "# Regression"
   ]
  },
  {
   "cell_type": "code",
   "execution_count": 26,
   "metadata": {},
   "outputs": [],
   "source": [
    "y_train_log = np.log(y_train)"
   ]
  },
  {
   "cell_type": "code",
   "execution_count": 27,
   "metadata": {},
   "outputs": [],
   "source": [
    "y_test_log = np.log(y_test)"
   ]
  },
  {
   "cell_type": "code",
   "execution_count": 28,
   "metadata": {},
   "outputs": [],
   "source": [
    "def get_validation_scores_reg(reg, X):\n",
    "    \n",
    "    scores = cross_validate(reg, X, y_train_log, cv=5, n_jobs=-1, return_train_score=True)\n",
    "    \n",
    "    for score in ['train_score', 'test_score']:\n",
    "        print(score, scores[score].mean())\n",
    "        \n",
    "    return scores"
   ]
  },
  {
   "cell_type": "code",
   "execution_count": 29,
   "metadata": {},
   "outputs": [],
   "source": [
    "def get_test_score_reg(reg, columns=columns):\n",
    "    reg.fit(X_train_num.loc[:,columns], y_train_log)\n",
    "    score = reg.score(X_test_num.loc[:,columns], y_test_log)\n",
    "    \n",
    "    print(score)\n",
    "    return score"
   ]
  },
  {
   "cell_type": "markdown",
   "metadata": {},
   "source": [
    "### Linear Regression"
   ]
  },
  {
   "cell_type": "markdown",
   "metadata": {},
   "source": [
    "#### Ridge Regularization"
   ]
  },
  {
   "cell_type": "code",
   "execution_count": 30,
   "metadata": {},
   "outputs": [],
   "source": [
    "lr_features = ['BsmtFinType1', 'LotArea', 'YearRemodAdd', 'GrLivArea', '2ndFlrSF',\n",
    "               '1stFlrSF', 'GarageArea', 'TotalBsmtSF', 'YearBuilt', 'BsmtFinSF1',\n",
    "               'OpenPorchSF', 'Fireplaces', 'MSZoning', 'LotFrontage', 'OverallQual',\n",
    "               'OverallCond', 'BsmtQual', 'BsmtUnfSF', 'CentralAir', 'GarageFinish',\n",
    "               'Neighborhood_Crawfor', 'EnclosedPorch', 'WoodDeckSF', 'MSSubClass',\n",
    "               'GarageYrBlt', 'ScreenPorch', 'MiscVal', 'KitchenQual', 'MasVnrArea']"
   ]
  },
  {
   "cell_type": "code",
   "execution_count": 31,
   "metadata": {},
   "outputs": [],
   "source": [
    "reg_ridge = Pipeline([('scaler', StandardScaler()), ('estimator', Ridge(alpha=.05))])"
   ]
  },
  {
   "cell_type": "code",
   "execution_count": 32,
   "metadata": {},
   "outputs": [
    {
     "name": "stdout",
     "output_type": "stream",
     "text": [
      "train_score 0.8952006196035335\n",
      "test_score 0.878972257416309\n"
     ]
    }
   ],
   "source": [
    "val_scores_reg_ridge = get_validation_scores_reg(reg_ridge, X_train_num.loc[:,lr_features])"
   ]
  },
  {
   "cell_type": "code",
   "execution_count": 33,
   "metadata": {},
   "outputs": [
    {
     "name": "stdout",
     "output_type": "stream",
     "text": [
      "0.7973673827259827\n"
     ]
    }
   ],
   "source": [
    "test_score_reg_ridge = get_test_score_reg(reg_ridge, lr_features)"
   ]
  },
  {
   "cell_type": "markdown",
   "metadata": {},
   "source": [
    "#### Lasso Regularization"
   ]
  },
  {
   "cell_type": "code",
   "execution_count": 34,
   "metadata": {},
   "outputs": [],
   "source": [
    "reg_lasso = Pipeline([('scaler', StandardScaler()), ('estimator', Lasso(alpha=.0005))])"
   ]
  },
  {
   "cell_type": "code",
   "execution_count": 35,
   "metadata": {},
   "outputs": [
    {
     "name": "stdout",
     "output_type": "stream",
     "text": [
      "train_score 0.8951327886962408\n",
      "test_score 0.8796530468218657\n"
     ]
    }
   ],
   "source": [
    "val_scores_reg_lasso = get_validation_scores_reg(reg_lasso, X_train_num.loc[:,lr_features])"
   ]
  },
  {
   "cell_type": "code",
   "execution_count": 36,
   "metadata": {},
   "outputs": [
    {
     "name": "stdout",
     "output_type": "stream",
     "text": [
      "0.7983009436235622\n"
     ]
    }
   ],
   "source": [
    "test_score_reg_lasso = get_test_score_reg(reg_lasso, lr_features)"
   ]
  },
  {
   "cell_type": "markdown",
   "metadata": {},
   "source": [
    "### Random Forest Regression"
   ]
  },
  {
   "cell_type": "code",
   "execution_count": 37,
   "metadata": {},
   "outputs": [],
   "source": [
    "best_params_rf = {'max_depth': 30,\n",
    "                  'min_samples_leaf': 1,\n",
    "                  'min_samples_split': 2,\n",
    "                  'n_estimators': 300}"
   ]
  },
  {
   "cell_type": "code",
   "execution_count": 38,
   "metadata": {},
   "outputs": [],
   "source": [
    "rf_features = ['GrLivArea', '1stFlrSF', 'GarageArea', 'TotalBsmtSF', 'BsmtFinSF1',\n",
    "               'OverallQual', '2ndFlrSF', 'LotArea', 'YearBuilt', 'BsmtUnfSF',\n",
    "               'MasVnrArea', 'BsmtQual', 'OverallCond', 'MiscVal', 'KitchenQual',\n",
    "               'GarageFinish']"
   ]
  },
  {
   "cell_type": "code",
   "execution_count": 39,
   "metadata": {},
   "outputs": [],
   "source": [
    "reg_rf = RandomForestRegressor(**best_params_rf)"
   ]
  },
  {
   "cell_type": "code",
   "execution_count": 40,
   "metadata": {
    "scrolled": true
   },
   "outputs": [
    {
     "name": "stdout",
     "output_type": "stream",
     "text": [
      "train_score 0.9799532927987726\n",
      "test_score 0.856652731095538\n"
     ]
    }
   ],
   "source": [
    "val_scores_reg_rf = get_validation_scores_reg(reg_rf, X_train_num.loc[:, rf_features])"
   ]
  },
  {
   "cell_type": "code",
   "execution_count": 41,
   "metadata": {},
   "outputs": [
    {
     "name": "stdout",
     "output_type": "stream",
     "text": [
      "0.8722860586630435\n"
     ]
    }
   ],
   "source": [
    "test_score_reg_rf = get_test_score_reg(reg_rf, rf_features)"
   ]
  },
  {
   "cell_type": "markdown",
   "metadata": {},
   "source": [
    "### SVM Regression"
   ]
  },
  {
   "cell_type": "code",
   "execution_count": 42,
   "metadata": {},
   "outputs": [],
   "source": [
    "best_params_svr = {'C': 0.1, 'kernel': 'linear'}"
   ]
  },
  {
   "cell_type": "code",
   "execution_count": 43,
   "metadata": {},
   "outputs": [],
   "source": [
    "svr_features = ['BsmtFinType1', 'LotArea', 'YearRemodAdd', 'GrLivArea', '2ndFlrSF',\n",
    "                '1stFlrSF', 'GarageArea', 'TotalBsmtSF', 'YearBuilt', 'BsmtFinSF1',\n",
    "                'OpenPorchSF', 'Fireplaces', 'MSZoning', 'LotFrontage', 'OverallQual',\n",
    "                'OverallCond', 'BsmtQual', 'BsmtUnfSF', 'CentralAir', 'GarageFinish',\n",
    "                'Neighborhood_Crawfor', 'EnclosedPorch', 'WoodDeckSF', 'MSSubClass',\n",
    "                'GarageYrBlt', 'ScreenPorch', 'MiscVal', 'KitchenQual', 'MasVnrArea']"
   ]
  },
  {
   "cell_type": "code",
   "execution_count": 44,
   "metadata": {},
   "outputs": [],
   "source": [
    "reg_svr = Pipeline([('scaler', StandardScaler()), ('estimator', SVR(**best_params_svr))])"
   ]
  },
  {
   "cell_type": "code",
   "execution_count": 45,
   "metadata": {
    "scrolled": true
   },
   "outputs": [
    {
     "name": "stdout",
     "output_type": "stream",
     "text": [
      "train_score 0.8930723208495637\n",
      "test_score 0.8805563123285083\n"
     ]
    }
   ],
   "source": [
    "val_scores_reg_svr = get_validation_scores_reg(reg_svr, X_train_num.loc[:, svr_features])"
   ]
  },
  {
   "cell_type": "code",
   "execution_count": 46,
   "metadata": {},
   "outputs": [
    {
     "name": "stdout",
     "output_type": "stream",
     "text": [
      "0.7831101316808665\n"
     ]
    }
   ],
   "source": [
    "test_score_reg_svr = get_test_score_reg(reg_svr, svr_features)"
   ]
  },
  {
   "cell_type": "code",
   "execution_count": 47,
   "metadata": {},
   "outputs": [
    {
     "data": {
      "text/plain": [
       "<matplotlib.legend.Legend at 0x1a1b12fb70>"
      ]
     },
     "execution_count": 47,
     "metadata": {},
     "output_type": "execute_result"
    },
    {
     "data": {
      "image/png": "[encoded data removed]",
      "text/plain": [
       "<Figure size 720x432 with 1 Axes>"
      ]
     },
     "metadata": {
      "needs_background": "light"
     },
     "output_type": "display_data"
    }
   ],
   "source": [
    "plt.figure(figsize=(10,6))\n",
    "barWidth = 0.25\n",
    "val_error = [val_scores_reg_lasso['test_score'].std(),\n",
    "             val_scores_reg_ridge['test_score'].std(),\n",
    "             val_scores_reg_rf['test_score'].std(),\n",
    "             val_scores_reg_svr['test_score'].std()]\n",
    "\n",
    "# set height of bar\n",
    "train = [val_scores_reg_lasso['train_score'].mean(),\n",
    "         val_scores_reg_ridge['train_score'].mean(),\n",
    "         val_scores_reg_rf['train_score'].mean(),\n",
    "         val_scores_reg_svr['train_score'].mean()]\n",
    "validation = [val_scores_reg_lasso['test_score'].mean(),\n",
    "              val_scores_reg_ridge['test_score'].mean(),\n",
    "              val_scores_reg_rf['test_score'].mean(),\n",
    "              val_scores_reg_svr['test_score'].mean()]\n",
    "test = [test_score_reg_lasso, test_score_reg_ridge, test_score_reg_rf, test_score_reg_svr]\n",
    "\n",
    "# Set position of bar on X axis\n",
    "r1 = np.arange(len(train))\n",
    "r2 = [x + barWidth for x in r1]\n",
    "r3 = [x + barWidth for x in r2]\n",
    " \n",
    "# Make the plot\n",
    "plt.bar(r1, train, color='#7f6d5f', width=barWidth, edgecolor='white', label='train')\n",
    "plt.bar(r2, validation, color='#557f2d', width=barWidth, edgecolor='white', label='validate', yerr=val_error)\n",
    "plt.bar(r3, test, color='#2d7f5e', width=barWidth, edgecolor='white', label='test')\n",
    " \n",
    "# Add xticks on the middle of the group bars\n",
    "plt.xlabel('R-Squared', fontweight='bold')\n",
    "plt.xticks([r + barWidth for r in range(len(train))], ['Linear Regression (lasso)',\n",
    "                                                       'Linear Regression (ridge)', \n",
    "                                                       'Random Forest',\n",
    "                                                       'SVM'])\n",
    "plt.legend(loc=4)"
   ]
  },
  {
   "cell_type": "code",
   "execution_count": null,
   "metadata": {},
   "outputs": [],
   "source": []
  }
 ],
 "metadata": {
  "kernelspec": {
   "display_name": "Python 3",
   "language": "python",
   "name": "python3"
  },
  "language_info": {
   "codemirror_mode": {
    "name": "ipython",
    "version": 3
   },
   "file_extension": ".py",
   "mimetype": "text/x-python",
   "name": "python",
   "nbconvert_exporter": "python",
   "pygments_lexer": "ipython3",
   "version": "3.7.3"
  }
 },
 "nbformat": 4,
 "nbformat_minor": 2
}
