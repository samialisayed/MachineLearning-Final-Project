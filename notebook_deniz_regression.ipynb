{
 "cells": [
  {
   "cell_type": "code",
   "execution_count": 48,
   "metadata": {},
   "outputs": [],
   "source": [
    "import pandas as pd\n",
    "import numpy as np\n",
    "import seaborn as sns\n",
    "from matplotlib import pyplot as plt\n",
    "from sklearn.ensemble import RandomForestRegressor\n",
    "from sklearn.model_selection import train_test_split\n",
    "from sklearn.linear_model import LinearRegression\n",
    "from sklearn.linear_model import Ridge\n",
    "from sklearn.linear_model import Lasso\n",
    "from sklearn.pipeline import Pipeline\n",
    "from sklearn.model_selection import GridSearchCV, cross_val_score\n",
    "from sklearn.metrics import mean_squared_error, mean_absolute_error\n",
    "\n"
   ]
  },
  {
   "cell_type": "code",
   "execution_count": 154,
   "metadata": {},
   "outputs": [],
   "source": [
    "df=pd.read_csv(\"C:/Users/Cemil Turhan/Desktop/MachineLearning_FinalProject/Numerical_train.csv\", index_col=0)"
   ]
  },
  {
   "cell_type": "code",
   "execution_count": 155,
   "metadata": {},
   "outputs": [
    {
     "data": {
      "text/plain": [
       "Index(['MSSubClass', 'MSZoning', 'LotFrontage', 'LotArea', 'Street', 'Alley',\n",
       "       'LotShape', 'LandSlope', 'OverallQual', 'OverallCond',\n",
       "       ...\n",
       "       'MiscFeature_Shed', 'MiscFeature_TenC', 'SaleType_CWD', 'SaleType_Con',\n",
       "       'SaleType_ConLD', 'SaleType_ConLI', 'SaleType_ConLw', 'SaleType_New',\n",
       "       'SaleType_Oth', 'SaleType_WD'],\n",
       "      dtype='object', length=190)"
      ]
     },
     "execution_count": 155,
     "metadata": {},
     "output_type": "execute_result"
    }
   ],
   "source": [
    "df.columns"
   ]
  },
  {
   "cell_type": "code",
   "execution_count": 156,
   "metadata": {},
   "outputs": [
    {
     "data": {
      "text/plain": [
       "[('SalePrice', 1.0),\n",
       " ('OverallQual', 0.7910686627656242),\n",
       " ('GrLivArea', 0.708617613678389),\n",
       " ('ExterQual', 0.6826773104249984),\n",
       " ('KitchenQual', 0.6598139270753497),\n",
       " ('GarageCars', 0.6404729026424087),\n",
       " ('GarageArea', 0.6234228990077125),\n",
       " ('TotalBsmtSF', 0.6139049674835603),\n",
       " ('1stFlrSF', 0.6059678567747742),\n",
       " ('BsmtQual', 0.5853487025846937),\n",
       " ('FullBath', 0.5608806241605117),\n",
       " ('GarageFinish', 0.5498090492718033),\n",
       " ('TotRmsAbvGrd', 0.5337788652255514),\n",
       " ('YearBuilt', 0.5232730605856432),\n",
       " ('FireplaceQu', 0.5205072958450804),\n",
       " ('YearRemodAdd', 0.5074302189394639),\n",
       " ('Foundation_PConc', 0.49808300465143923),\n",
       " ('GarageType', 0.48992659823626533),\n",
       " ('MasVnrArea', 0.47260577576654095),\n",
       " ('Fireplaces', 0.4669680455516374),\n",
       " ('HeatingQC', 0.42763871622441324),\n",
       " ('Neighborhood_NridgHt', 0.40213287534154485),\n",
       " ('BsmtFinSF1', 0.3864362820990178),\n",
       " ('BsmtExposure', 0.37467626563117373),\n",
       " ('SaleType_New', 0.3574890978618135),\n",
       " ('MasVnrType_Stone', 0.33045385618379947),\n",
       " ('Neighborhood_NoRidge', 0.3304104420566072),\n",
       " ('LotFrontage', 0.33024231729166786),\n",
       " ('WoodDeckSF', 0.32442217537680873),\n",
       " ('2ndFlrSF', 0.31946406832275054),\n",
       " ('OpenPorchSF', 0.3158314371433124),\n",
       " ('Exterior2nd_VinylSd', 0.30675087861992345),\n",
       " ('Exterior1st_VinylSd', 0.30536078018672697),\n",
       " ('BsmtFinType1', 0.30492349451495615),\n",
       " ('HalfBath', 0.28439956523414306),\n",
       " ('GarageQual', 0.27387863521608),\n",
       " ('LotArea', 0.26383741518050147),\n",
       " ('GarageCond', 0.26323049279331623),\n",
       " ('CentralAir', 0.2513671777283346),\n",
       " ('HouseStyle_2Story', 0.24284219605908008),\n",
       " ('Electrical_SBrkr', 0.24240261684332312),\n",
       " ('RoofStyle_Hip', 0.23586174734742416),\n",
       " ('PavedDrive', 0.23139943662950282),\n",
       " ('BsmtFullBath', 0.22708180481272683),\n",
       " ('Neighborhood_StoneBr', 0.21535082744298595),\n",
       " ('BsmtUnfSF', 0.21444579995788335),\n",
       " ('BsmtCond', 0.21262390509686124),\n",
       " ('MasVnrType_BrkFace', 0.198146221590645),\n",
       " ('RoofMatl_WdShngl', 0.16931836162606692),\n",
       " ('BedroomAbvGr', 0.1682353184690841),\n",
       " ('LotConfig_CulDSac', 0.14179188242583407),\n",
       " ('Neighborhood_Somerst', 0.14003339141050608),\n",
       " ('Exterior1st_CemntBd', 0.13347087582928896),\n",
       " ('Neighborhood_Timber', 0.12860611701349978),\n",
       " ('Exterior2nd_CmentBd', 0.1281623171268129),\n",
       " ('LandContour_HLS', 0.11999462200637138),\n",
       " ('PoolQC', 0.11547820640110956),\n",
       " ('Condition1_Norm', 0.11302172439194551),\n",
       " ('ScreenPorch', 0.1114191505740269),\n",
       " ('Functional', 0.10764947726367038),\n",
       " ('Heating_GasA', 0.0925478694819677),\n",
       " ('PoolArea', 0.09239664651115599),\n",
       " ('Exterior2nd_ImStucc', 0.07439240352657658),\n",
       " ('Neighborhood_CollgCr', 0.07259035614568708),\n",
       " ('MiscFeature_NoMisc', 0.07232247321226458),\n",
       " ('Neighborhood_Crawfor', 0.07113914381132447),\n",
       " ('Neighborhood_Veenker', 0.06346133320691486),\n",
       " ('Neighborhood_ClearCr', 0.055703031829866585),\n",
       " ('LandSlope', 0.051127495942590105),\n",
       " ('Condition1_PosN', 0.04952857626441984),\n",
       " ('Condition2_PosN', 0.048477309511169416),\n",
       " ('Condition2_PosA', 0.04749467678869052),\n",
       " ('MoSold', 0.04637984668301173),\n",
       " ('Exterior2nd_Other', 0.045516688021950635),\n",
       " ('LandContour_Low', 0.04551067268683302),\n",
       " ('RoofMatl_WdShake', 0.04463661622849132),\n",
       " ('3SsnPorch', 0.04457083241507879),\n",
       " ('Condition1_PosA', 0.042008791661720744),\n",
       " ('SaleType_Con', 0.04135341018716037),\n",
       " ('Street', 0.04104343616787883),\n",
       " ('HouseStyle_2.5Fin', 0.03651755083616065),\n",
       " ('Exterior1st_Stone', 0.03617663228231611),\n",
       " ('Neighborhood_Gilbert', 0.03591297346829029),\n",
       " ('Exterior1st_BrkFace', 0.0323502878796151),\n",
       " ('Condition2_Norm', 0.030688499655089563),\n",
       " ('Exterior1st_ImStucc', 0.026725794737921593),\n",
       " ('Exterior2nd_BrkFace', 0.024744096729606306),\n",
       " ('Neighborhood_NWAmes', 0.023456851821122126),\n",
       " ('Condition1_RRNn', 0.023229797610258205),\n",
       " ('MiscFeature_TenC', 0.0227698172044418),\n",
       " ('RoofStyle_Shed', 0.02055302329021779),\n",
       " ('RoofMatl_Membran', 0.019967666451560888),\n",
       " ('SaleType_CWD', 0.019582205281429718),\n",
       " ('ExterCond', 0.01887208865444621),\n",
       " ('LotConfig_FR3', 0.018179686241158),\n",
       " ('Neighborhood_SawyerW', 0.01453673487536207),\n",
       " ('SaleType_ConLI', 0.014364422037672889),\n",
       " ('Condition1_RRAn', 0.00587720865425595),\n",
       " ('RoofMatl_Tar&Grv', 0.0049107796683664625),\n",
       " ('Condition1_RRNe', 0.004579632007251537),\n",
       " ('BldgType_TwnhsE', 0.0037708195835365844),\n",
       " ('Condition2_RRAe', 0.002989929537043455),\n",
       " ('Foundation_Wood', 0.002706249892970974),\n",
       " ('RoofMatl_Metal', -0.0003067184075229612),\n",
       " ('RoofStyle_Mansard', -0.00031636256365400123),\n",
       " ('BsmtFinType2', -0.005355461739027337),\n",
       " ('LotConfig_FR2', -0.0068801621809839566),\n",
       " ('BsmtFinSF2', -0.011411994492695785),\n",
       " ('Foundation_Stone', -0.012110207331045765),\n",
       " ('Utilities_NoSeWa', -0.014317472171930272),\n",
       " ('RoofMatl_Roll', -0.014482304569158489),\n",
       " ('Condition2_RRAn', -0.014513622724631949),\n",
       " ('Exterior2nd_Stone', -0.016760501700311365),\n",
       " ('BsmtHalfBath', -0.016872578243215662),\n",
       " ('Exterior1st_Plywood', -0.017752654483301485),\n",
       " ('Heating_GasW', -0.02011582350249101),\n",
       " ('Neighborhood_Blueste', -0.02025491064436738),\n",
       " ('MiscVal', -0.021200000137795827),\n",
       " ('Exterior2nd_AsphShn', -0.024529921287659115),\n",
       " ('Exterior1st_CBlock', -0.025031577991770915),\n",
       " ('Exterior2nd_CBlock', -0.025031577991770915),\n",
       " ('LowQualFinSF', -0.025620435657682773),\n",
       " ('Heating_OthW', -0.025734833201297526),\n",
       " ('HouseStyle_2.5Unf', -0.025866087451524827),\n",
       " ('Exterior1st_AsphShn', -0.02667990196405436),\n",
       " ('SaleType_ConLw', -0.027482217530177395),\n",
       " ('LandContour_Lvl', -0.027506869718449758),\n",
       " ('YrSold', -0.028906983903371087),\n",
       " ('Exterior1st_Stucco', -0.029818016923560457),\n",
       " ('SaleType_Oth', -0.03490061723720679),\n",
       " ('RoofStyle_Gambrel', -0.035131962149123216),\n",
       " ('Electrical_Mix', -0.037558840181124084),\n",
       " ('Neighborhood_NPkVill', -0.03791931427264935),\n",
       " ('HouseStyle_SLvl', -0.038392611389935175),\n",
       " ('Condition2_RRNn', -0.03925974844818832),\n",
       " ('Exterior2nd_Wd Shng', -0.04034913546359795),\n",
       " ('MiscFeature_Othr', -0.04054228351470404),\n",
       " ('SaleType_ConLD', -0.04180046124793636),\n",
       " ('Exterior2nd_Stucco', -0.04243196838785099),\n",
       " ('Condition1_RRAe', -0.04666194185894433),\n",
       " ('Exterior2nd_Brk Cmn', -0.04738549161131476),\n",
       " ('Electrical_FuseP', -0.047766375022182686),\n",
       " ('Condition2_Feedr', -0.04834280343957218),\n",
       " ('Exterior1st_BrkComm', -0.051268940434652056),\n",
       " ('Exterior1st_WdShing', -0.051333824658692885),\n",
       " ('Exterior2nd_Plywood', -0.05298136429750663),\n",
       " ('Neighborhood_Mitchel', -0.05786789498663944),\n",
       " ('Heating_Wall', -0.058628856493730855),\n",
       " ('HouseStyle_1Story', -0.06194790831595641),\n",
       " ('Neighborhood_SWISU', -0.06372178547632137),\n",
       " ('Exterior2nd_HdBoard', -0.06791519574391133),\n",
       " ('MiscFeature_Shed', -0.06979453402288885),\n",
       " ('OverallCond', -0.07792370908741668),\n",
       " ('LotConfig_Inside', -0.08047721739857182),\n",
       " ('MSSubClass', -0.08423029154129347),\n",
       " ('HouseStyle_1.5Unf', -0.08769895277331653),\n",
       " ('Heating_Grav', -0.09234712971333824),\n",
       " ('Alley', -0.09263838203519881),\n",
       " ('HouseStyle_SFoyer', -0.0931102937050991),\n",
       " ('Exterior1st_HdBoard', -0.09520347940974627),\n",
       " ('BldgType_2fmCon', -0.09736703950873078),\n",
       " ('BldgType_Twnhs', -0.09875237030275914),\n",
       " ('Neighborhood_BrDale', -0.10131640551190137),\n",
       " ('RoofMatl_CompShg', -0.10449124489404522),\n",
       " ('Neighborhood_MeadowV', -0.11255828343517321),\n",
       " ('BldgType_Duplex', -0.11467966430058471),\n",
       " ('Condition1_Feedr', -0.11736026183334189),\n",
       " ('Foundation_Slab', -0.11975699309441806),\n",
       " ('Electrical_FuseF', -0.12661894303159105),\n",
       " ('Neighborhood_Sawyer', -0.12842443723865696),\n",
       " ('EnclosedPorch', -0.12862653002591243),\n",
       " ('KitchenAbvGr', -0.1359352775776613),\n",
       " ('Neighborhood_BrkSide', -0.1436748697271415),\n",
       " ('Fence', -0.1470085143667092),\n",
       " ('GarageYrBlt', -0.15025236758015448),\n",
       " ('Exterior1st_Wd Sdng', -0.15867651587393844),\n",
       " ('Exterior2nd_Wd Sdng', -0.16185647844789972),\n",
       " ('Exterior2nd_MetalSd', -0.16244782650967507),\n",
       " ('Neighborhood_IDOTRR', -0.16407759790156362),\n",
       " ('Exterior1st_MetalSd', -0.16712863057676355),\n",
       " ('Neighborhood_Edwards', -0.17998667119414039),\n",
       " ('Neighborhood_NAmes', -0.18857565806013213),\n",
       " ('Neighborhood_OldTown', -0.19222975645695034),\n",
       " ('RoofStyle_Gable', -0.2247065991006198),\n",
       " ('MSZoning', -0.2363431089144045),\n",
       " ('SaleType_WD', -0.24256734574207411),\n",
       " ('LotShape', -0.26772582858722105),\n",
       " ('SaleCondition', -0.2925403444523641),\n",
       " ('Foundation_CBlock', -0.34345819726451643),\n",
       " ('MasVnrType_None', -0.3674497657309041)]"
      ]
     },
     "execution_count": 156,
     "metadata": {},
     "output_type": "execute_result"
    }
   ],
   "source": [
    "corr_list = sorted(df.corr().to_dict()['SalePrice'].items(), key=lambda x: x[1], reverse=True)\n",
    "corr_list"
   ]
  },
  {
   "cell_type": "code",
   "execution_count": 157,
   "metadata": {},
   "outputs": [],
   "source": [
    "df = df.drop(labels = ['Condition1_RRAn', 'RoofMatl_Tar&Grv','Condition1_RRNe','BldgType_TwnhsE','Condition2_RRAe','Foundation_Wood', 'RoofMatl_Metal', 'RoofStyle_Mansard', 'BsmtFinType2', 'LotConfig_FR2'] , axis=1).astype(\"float64\")"
   ]
  },
  {
   "cell_type": "code",
   "execution_count": 158,
   "metadata": {},
   "outputs": [],
   "source": [
    "target=df.SalePrice"
   ]
  },
  {
   "cell_type": "code",
   "execution_count": 159,
   "metadata": {},
   "outputs": [],
   "source": [
    "logged_target=np.log(target)"
   ]
  },
  {
   "cell_type": "code",
   "execution_count": 160,
   "metadata": {},
   "outputs": [],
   "source": [
    "df = df.drop(labels = 'SalePrice', axis=1).astype(\"float64\")"
   ]
  },
  {
   "cell_type": "code",
   "execution_count": 161,
   "metadata": {},
   "outputs": [
    {
     "data": {
      "text/plain": [
       "pandas.core.series.Series"
      ]
     },
     "execution_count": 161,
     "metadata": {},
     "output_type": "execute_result"
    }
   ],
   "source": [
    "type(target)"
   ]
  },
  {
   "cell_type": "code",
   "execution_count": 162,
   "metadata": {},
   "outputs": [],
   "source": [
    "X_train, X_test, y_train, y_test = train_test_split(df, logged_target)"
   ]
  },
  {
   "cell_type": "code",
   "execution_count": 163,
   "metadata": {},
   "outputs": [],
   "source": [
    "linear=LinearRegression()"
   ]
  },
  {
   "cell_type": "code",
   "execution_count": 164,
   "metadata": {},
   "outputs": [
    {
     "data": {
      "text/plain": [
       "LinearRegression(copy_X=True, fit_intercept=True, n_jobs=None, normalize=False)"
      ]
     },
     "execution_count": 164,
     "metadata": {},
     "output_type": "execute_result"
    }
   ],
   "source": [
    "linear.fit(X_train, y_train)"
   ]
  },
  {
   "cell_type": "code",
   "execution_count": 165,
   "metadata": {},
   "outputs": [],
   "source": [
    "y_pred=linear.predict(X_test)"
   ]
  },
  {
   "cell_type": "code",
   "execution_count": 166,
   "metadata": {},
   "outputs": [],
   "source": [
    "test_mse = mean_squared_error(y_test, y_pred)\n",
    "test_rmse = np.sqrt(test_mse)\n",
    "test_mae = mean_absolute_error(y_test, y_pred)"
   ]
  },
  {
   "cell_type": "code",
   "execution_count": 167,
   "metadata": {},
   "outputs": [
    {
     "name": "stdout",
     "output_type": "stream",
     "text": [
      "0.020106376120225294 0.141796953846778 0.09894366976856446\n"
     ]
    }
   ],
   "source": [
    "print(test_mse, test_rmse, test_mae)"
   ]
  },
  {
   "cell_type": "code",
   "execution_count": 168,
   "metadata": {},
   "outputs": [],
   "source": [
    "cross_v = cross_val_score(linear, X_train, y_train, cv=5, \n",
    " scoring=\"neg_mean_squared_error\")"
   ]
  },
  {
   "cell_type": "code",
   "execution_count": 169,
   "metadata": {},
   "outputs": [
    {
     "data": {
      "text/plain": [
       "array([-0.02138479, -0.10690081, -0.04879636, -0.01788371, -0.02913326])"
      ]
     },
     "execution_count": 169,
     "metadata": {},
     "output_type": "execute_result"
    }
   ],
   "source": [
    "cross_v"
   ]
  },
  {
   "cell_type": "code",
   "execution_count": 170,
   "metadata": {},
   "outputs": [
    {
     "data": {
      "text/plain": [
       "0.9273341894176079"
      ]
     },
     "execution_count": 170,
     "metadata": {},
     "output_type": "execute_result"
    }
   ],
   "source": [
    "linear.score(X_train, y_train)"
   ]
  },
  {
   "cell_type": "code",
   "execution_count": 172,
   "metadata": {},
   "outputs": [
    {
     "data": {
      "text/plain": [
       "0.8578371289219523"
      ]
     },
     "execution_count": 172,
     "metadata": {},
     "output_type": "execute_result"
    }
   ],
   "source": [
    "linear.score(X_test, y_test)"
   ]
  },
  {
   "cell_type": "code",
   "execution_count": 97,
   "metadata": {},
   "outputs": [],
   "source": [
    "lasso=Lasso()"
   ]
  },
  {
   "cell_type": "code",
   "execution_count": 98,
   "metadata": {},
   "outputs": [],
   "source": [
    "alpha=[0.00001, 0.0001, 0.001, 0.01, 0.1, 0.25, 0.5, 0.75, 1]\n"
   ]
  },
  {
   "cell_type": "code",
   "execution_count": 99,
   "metadata": {},
   "outputs": [],
   "source": [
    "param_grid = dict(alpha=alpha)"
   ]
  },
  {
   "cell_type": "code",
   "execution_count": 100,
   "metadata": {},
   "outputs": [],
   "source": [
    "lasso_cv = GridSearchCV(estimator = lasso, param_grid = param_grid, cv=5)"
   ]
  },
  {
   "cell_type": "code",
   "execution_count": 101,
   "metadata": {},
   "outputs": [
    {
     "name": "stderr",
     "output_type": "stream",
     "text": [
      "C:\\anac\\lib\\site-packages\\sklearn\\linear_model\\_coordinate_descent.py:476: ConvergenceWarning: Objective did not converge. You might want to increase the number of iterations. Duality gap: 0.6626921043655285, tolerance: 0.01354787499652131\n",
      "  positive)\n",
      "C:\\anac\\lib\\site-packages\\sklearn\\linear_model\\_coordinate_descent.py:476: ConvergenceWarning: Objective did not converge. You might want to increase the number of iterations. Duality gap: 3.828020973139623, tolerance: 0.014391028126289689\n",
      "  positive)\n",
      "C:\\anac\\lib\\site-packages\\sklearn\\linear_model\\_coordinate_descent.py:476: ConvergenceWarning: Objective did not converge. You might want to increase the number of iterations. Duality gap: 0.01740067462248618, tolerance: 0.013909767381826265\n",
      "  positive)\n",
      "C:\\anac\\lib\\site-packages\\sklearn\\linear_model\\_coordinate_descent.py:476: ConvergenceWarning: Objective did not converge. You might want to increase the number of iterations. Duality gap: 3.692324255206531, tolerance: 0.013875593554008192\n",
      "  positive)\n"
     ]
    },
    {
     "data": {
      "text/plain": [
       "GridSearchCV(cv=5, error_score=nan,\n",
       "             estimator=Lasso(alpha=1.0, copy_X=True, fit_intercept=True,\n",
       "                             max_iter=1000, normalize=False, positive=False,\n",
       "                             precompute=False, random_state=None,\n",
       "                             selection='cyclic', tol=0.0001, warm_start=False),\n",
       "             iid='deprecated', n_jobs=None,\n",
       "             param_grid={'alpha': [1e-05, 0.0001, 0.001, 0.01, 0.1, 0.25, 0.5,\n",
       "                                   0.75, 1]},\n",
       "             pre_dispatch='2*n_jobs', refit=True, return_train_score=False,\n",
       "             scoring=None, verbose=0)"
      ]
     },
     "execution_count": 101,
     "metadata": {},
     "output_type": "execute_result"
    }
   ],
   "source": [
    "lasso_cv.fit(X_train, y_train)"
   ]
  },
  {
   "cell_type": "code",
   "execution_count": 102,
   "metadata": {},
   "outputs": [
    {
     "data": {
      "text/plain": [
       "{'alpha': 0.001}"
      ]
     },
     "execution_count": 102,
     "metadata": {},
     "output_type": "execute_result"
    }
   ],
   "source": [
    "lasso_cv.best_params_"
   ]
  },
  {
   "cell_type": "code",
   "execution_count": 103,
   "metadata": {},
   "outputs": [],
   "source": [
    "lasso_best=Lasso(alpha=0.001)"
   ]
  },
  {
   "cell_type": "code",
   "execution_count": 104,
   "metadata": {},
   "outputs": [
    {
     "name": "stdout",
     "output_type": "stream",
     "text": [
      "[0.90565221 0.90984829 0.90279822 0.91762847 0.82784557]\n"
     ]
    }
   ],
   "source": [
    "print(cross_val_score(lasso_best, X_train, y_train, cv=5))"
   ]
  },
  {
   "cell_type": "code",
   "execution_count": 105,
   "metadata": {},
   "outputs": [
    {
     "data": {
      "text/plain": [
       "Lasso(alpha=0.001, copy_X=True, fit_intercept=True, max_iter=1000,\n",
       "      normalize=False, positive=False, precompute=False, random_state=None,\n",
       "      selection='cyclic', tol=0.0001, warm_start=False)"
      ]
     },
     "execution_count": 105,
     "metadata": {},
     "output_type": "execute_result"
    }
   ],
   "source": [
    "lasso_best.fit(X_train, y_train)"
   ]
  },
  {
   "cell_type": "code",
   "execution_count": 107,
   "metadata": {},
   "outputs": [
    {
     "data": {
      "text/plain": [
       "0.7685471319056038"
      ]
     },
     "execution_count": 107,
     "metadata": {},
     "output_type": "execute_result"
    }
   ],
   "source": [
    "lasso_best.score(X_test, y_test)"
   ]
  },
  {
   "cell_type": "code",
   "execution_count": 108,
   "metadata": {},
   "outputs": [],
   "source": [
    "ridge=Ridge()"
   ]
  },
  {
   "cell_type": "code",
   "execution_count": 116,
   "metadata": {},
   "outputs": [],
   "source": [
    "alpha=[0.05, 0.1, 1, 5, 10, 20, 50, 100, 150, 200, 250]"
   ]
  },
  {
   "cell_type": "code",
   "execution_count": 117,
   "metadata": {},
   "outputs": [],
   "source": [
    "param_grid = dict(alpha=alpha)"
   ]
  },
  {
   "cell_type": "code",
   "execution_count": 118,
   "metadata": {},
   "outputs": [],
   "source": [
    "ridge_cv = GridSearchCV(estimator = ridge, param_grid = param_grid, cv=5)"
   ]
  },
  {
   "cell_type": "code",
   "execution_count": 119,
   "metadata": {},
   "outputs": [
    {
     "data": {
      "text/plain": [
       "GridSearchCV(cv=5, error_score=nan,\n",
       "             estimator=Ridge(alpha=1.0, copy_X=True, fit_intercept=True,\n",
       "                             max_iter=None, normalize=False, random_state=None,\n",
       "                             solver='auto', tol=0.001),\n",
       "             iid='deprecated', n_jobs=None,\n",
       "             param_grid={'alpha': [0.05, 0.1, 1, 5, 10, 20, 50, 100, 150, 200,\n",
       "                                   250]},\n",
       "             pre_dispatch='2*n_jobs', refit=True, return_train_score=False,\n",
       "             scoring=None, verbose=0)"
      ]
     },
     "execution_count": 119,
     "metadata": {},
     "output_type": "execute_result"
    }
   ],
   "source": [
    "ridge_cv.fit(X_train, y_train)"
   ]
  },
  {
   "cell_type": "code",
   "execution_count": 120,
   "metadata": {},
   "outputs": [
    {
     "data": {
      "text/plain": [
       "{'alpha': 10}"
      ]
     },
     "execution_count": 120,
     "metadata": {},
     "output_type": "execute_result"
    }
   ],
   "source": [
    "ridge_cv.best_params_"
   ]
  },
  {
   "cell_type": "code",
   "execution_count": 121,
   "metadata": {},
   "outputs": [],
   "source": [
    "ridge_best=Ridge(alpha=10)"
   ]
  },
  {
   "cell_type": "code",
   "execution_count": 122,
   "metadata": {},
   "outputs": [
    {
     "name": "stdout",
     "output_type": "stream",
     "text": [
      "[0.90541508 0.90619252 0.8988905  0.92125688 0.82885194]\n"
     ]
    }
   ],
   "source": [
    "print(cross_val_score(ridge_best, X_train, y_train, cv=5))"
   ]
  },
  {
   "cell_type": "code",
   "execution_count": 123,
   "metadata": {},
   "outputs": [
    {
     "data": {
      "text/plain": [
       "Ridge(alpha=10, copy_X=True, fit_intercept=True, max_iter=None, normalize=False,\n",
       "      random_state=None, solver='auto', tol=0.001)"
      ]
     },
     "execution_count": 123,
     "metadata": {},
     "output_type": "execute_result"
    }
   ],
   "source": [
    "ridge_best.fit(X_train, y_train)"
   ]
  },
  {
   "cell_type": "code",
   "execution_count": 124,
   "metadata": {},
   "outputs": [
    {
     "data": {
      "text/plain": [
       "0.7854776682503812"
      ]
     },
     "execution_count": 124,
     "metadata": {},
     "output_type": "execute_result"
    }
   ],
   "source": [
    "ridge_best.score(X_test, y_test)"
   ]
  },
  {
   "cell_type": "code",
   "execution_count": 125,
   "metadata": {},
   "outputs": [],
   "source": [
    "rf=RandomForestRegressor()"
   ]
  },
  {
   "cell_type": "code",
   "execution_count": 126,
   "metadata": {},
   "outputs": [],
   "source": [
    "n_estimators = [100, 300, 500, 750, 1000, 1500]\n",
    "max_depth = [2, 5, 10, 30, 50]\n",
    "min_samples_split = [2, 5, 10]\n",
    "min_samples_leaf = [1, 2, 5, 10]"
   ]
  },
  {
   "cell_type": "code",
   "execution_count": 127,
   "metadata": {},
   "outputs": [],
   "source": [
    "param_grid = dict(n_estimators = n_estimators,\n",
    "                  max_depth = max_depth,\n",
    "                  min_samples_split = min_samples_split,\n",
    "                  min_samples_leaf = min_samples_leaf)"
   ]
  },
  {
   "cell_type": "code",
   "execution_count": 128,
   "metadata": {},
   "outputs": [],
   "source": [
    "rf_cv = GridSearchCV(estimator = rf, param_grid = param_grid, cv=5)"
   ]
  },
  {
   "cell_type": "code",
   "execution_count": 129,
   "metadata": {},
   "outputs": [
    {
     "data": {
      "text/plain": [
       "GridSearchCV(cv=5, error_score=nan,\n",
       "             estimator=RandomForestRegressor(bootstrap=True, ccp_alpha=0.0,\n",
       "                                             criterion='mse', max_depth=None,\n",
       "                                             max_features='auto',\n",
       "                                             max_leaf_nodes=None,\n",
       "                                             max_samples=None,\n",
       "                                             min_impurity_decrease=0.0,\n",
       "                                             min_impurity_split=None,\n",
       "                                             min_samples_leaf=1,\n",
       "                                             min_samples_split=2,\n",
       "                                             min_weight_fraction_leaf=0.0,\n",
       "                                             n_estimators=100, n_jobs=None,\n",
       "                                             oob_score=False, random_state=None,\n",
       "                                             verbose=0, warm_start=False),\n",
       "             iid='deprecated', n_jobs=None,\n",
       "             param_grid={'max_depth': [2, 5, 10, 30, 50],\n",
       "                         'min_samples_leaf': [1, 2, 5, 10],\n",
       "                         'min_samples_split': [2, 5, 10],\n",
       "                         'n_estimators': [100, 300, 500, 750, 1000, 1500]},\n",
       "             pre_dispatch='2*n_jobs', refit=True, return_train_score=False,\n",
       "             scoring=None, verbose=0)"
      ]
     },
     "execution_count": 129,
     "metadata": {},
     "output_type": "execute_result"
    }
   ],
   "source": [
    "rf_cv.fit(X_train, y_train)"
   ]
  },
  {
   "cell_type": "code",
   "execution_count": 130,
   "metadata": {},
   "outputs": [],
   "source": [
    "best_params= rf_cv.best_params_"
   ]
  },
  {
   "cell_type": "code",
   "execution_count": 131,
   "metadata": {},
   "outputs": [
    {
     "data": {
      "text/plain": [
       "{'max_depth': 30,\n",
       " 'min_samples_leaf': 1,\n",
       " 'min_samples_split': 2,\n",
       " 'n_estimators': 1000}"
      ]
     },
     "execution_count": 131,
     "metadata": {},
     "output_type": "execute_result"
    }
   ],
   "source": [
    "best_params"
   ]
  },
  {
   "cell_type": "code",
   "execution_count": 133,
   "metadata": {},
   "outputs": [],
   "source": [
    "\n",
    "rf_best = RandomForestRegressor(**best_params)"
   ]
  },
  {
   "cell_type": "code",
   "execution_count": 134,
   "metadata": {},
   "outputs": [
    {
     "name": "stdout",
     "output_type": "stream",
     "text": [
      "[0.87253915 0.88464844 0.86471996 0.86586554 0.85999522]\n"
     ]
    }
   ],
   "source": [
    "print(cross_val_score(rf_best, X_train, y_train, cv=5))"
   ]
  },
  {
   "cell_type": "code",
   "execution_count": 135,
   "metadata": {},
   "outputs": [
    {
     "data": {
      "text/plain": [
       "RandomForestRegressor(bootstrap=True, ccp_alpha=0.0, criterion='mse',\n",
       "                      max_depth=30, max_features='auto', max_leaf_nodes=None,\n",
       "                      max_samples=None, min_impurity_decrease=0.0,\n",
       "                      min_impurity_split=None, min_samples_leaf=1,\n",
       "                      min_samples_split=2, min_weight_fraction_leaf=0.0,\n",
       "                      n_estimators=1000, n_jobs=None, oob_score=False,\n",
       "                      random_state=None, verbose=0, warm_start=False)"
      ]
     },
     "execution_count": 135,
     "metadata": {},
     "output_type": "execute_result"
    }
   ],
   "source": [
    "rf_best.fit(X_train, y_train)"
   ]
  },
  {
   "cell_type": "code",
   "execution_count": 136,
   "metadata": {},
   "outputs": [
    {
     "data": {
      "text/plain": [
       "0.8644029519687522"
      ]
     },
     "execution_count": 136,
     "metadata": {},
     "output_type": "execute_result"
    }
   ],
   "source": [
    "rf_best.score(X_test, y_test)"
   ]
  },
  {
   "cell_type": "markdown",
   "metadata": {},
   "source": [
    " ## Now, try models on the subset with only top 4 variables accounted for most of the accuracy in the model (obtained before)"
   ]
  },
  {
   "cell_type": "code",
   "execution_count": 144,
   "metadata": {},
   "outputs": [],
   "source": [
    "feature_importances = sorted(zip(X_train.columns, rf_best.feature_importances_), reverse=True, key=lambda x: x[1])"
   ]
  },
  {
   "cell_type": "code",
   "execution_count": 141,
   "metadata": {},
   "outputs": [],
   "source": [
    "feature_df = pd.DataFrame(feature_importances, columns=['feature', 'importance'])"
   ]
  },
  {
   "cell_type": "code",
   "execution_count": 142,
   "metadata": {},
   "outputs": [
    {
     "data": {
      "text/html": [
       "<div>\n",
       "<style scoped>\n",
       "    .dataframe tbody tr th:only-of-type {\n",
       "        vertical-align: middle;\n",
       "    }\n",
       "\n",
       "    .dataframe tbody tr th {\n",
       "        vertical-align: top;\n",
       "    }\n",
       "\n",
       "    .dataframe thead th {\n",
       "        text-align: right;\n",
       "    }\n",
       "</style>\n",
       "<table border=\"1\" class=\"dataframe\">\n",
       "  <thead>\n",
       "    <tr style=\"text-align: right;\">\n",
       "      <th></th>\n",
       "      <th>feature</th>\n",
       "      <th>importance</th>\n",
       "    </tr>\n",
       "  </thead>\n",
       "  <tbody>\n",
       "    <tr>\n",
       "      <th>0</th>\n",
       "      <td>OverallQual</td>\n",
       "      <td>0.550778</td>\n",
       "    </tr>\n",
       "    <tr>\n",
       "      <th>1</th>\n",
       "      <td>GrLivArea</td>\n",
       "      <td>0.106880</td>\n",
       "    </tr>\n",
       "    <tr>\n",
       "      <th>2</th>\n",
       "      <td>TotalBsmtSF</td>\n",
       "      <td>0.042295</td>\n",
       "    </tr>\n",
       "    <tr>\n",
       "      <th>3</th>\n",
       "      <td>GarageCars</td>\n",
       "      <td>0.032372</td>\n",
       "    </tr>\n",
       "    <tr>\n",
       "      <th>4</th>\n",
       "      <td>GarageArea</td>\n",
       "      <td>0.027959</td>\n",
       "    </tr>\n",
       "    <tr>\n",
       "      <th>...</th>\n",
       "      <td>...</td>\n",
       "      <td>...</td>\n",
       "    </tr>\n",
       "    <tr>\n",
       "      <th>174</th>\n",
       "      <td>RoofMatl_Membran</td>\n",
       "      <td>0.000000</td>\n",
       "    </tr>\n",
       "    <tr>\n",
       "      <th>175</th>\n",
       "      <td>Exterior1st_AsphShn</td>\n",
       "      <td>0.000000</td>\n",
       "    </tr>\n",
       "    <tr>\n",
       "      <th>176</th>\n",
       "      <td>Exterior1st_ImStucc</td>\n",
       "      <td>0.000000</td>\n",
       "    </tr>\n",
       "    <tr>\n",
       "      <th>177</th>\n",
       "      <td>MiscFeature_Othr</td>\n",
       "      <td>0.000000</td>\n",
       "    </tr>\n",
       "    <tr>\n",
       "      <th>178</th>\n",
       "      <td>MiscFeature_TenC</td>\n",
       "      <td>0.000000</td>\n",
       "    </tr>\n",
       "  </tbody>\n",
       "</table>\n",
       "<p>179 rows × 2 columns</p>\n",
       "</div>"
      ],
      "text/plain": [
       "                 feature  importance\n",
       "0            OverallQual    0.550778\n",
       "1              GrLivArea    0.106880\n",
       "2            TotalBsmtSF    0.042295\n",
       "3             GarageCars    0.032372\n",
       "4             GarageArea    0.027959\n",
       "..                   ...         ...\n",
       "174     RoofMatl_Membran    0.000000\n",
       "175  Exterior1st_AsphShn    0.000000\n",
       "176  Exterior1st_ImStucc    0.000000\n",
       "177     MiscFeature_Othr    0.000000\n",
       "178     MiscFeature_TenC    0.000000\n",
       "\n",
       "[179 rows x 2 columns]"
      ]
     },
     "execution_count": 142,
     "metadata": {},
     "output_type": "execute_result"
    }
   ],
   "source": [
    "feature_df"
   ]
  },
  {
   "cell_type": "code",
   "execution_count": 173,
   "metadata": {},
   "outputs": [],
   "source": [
    "subset=df[[\"OverallQual\", \"GrLivArea\", \"TotalBsmtSF\", \"GarageCars\"]]"
   ]
  },
  {
   "cell_type": "code",
   "execution_count": 174,
   "metadata": {},
   "outputs": [],
   "source": [
    " X_train, X_test, y_train, y_test = train_test_split(subset, logged_target)"
   ]
  },
  {
   "cell_type": "markdown",
   "metadata": {},
   "source": [
    "### Linear"
   ]
  },
  {
   "cell_type": "code",
   "execution_count": 146,
   "metadata": {},
   "outputs": [
    {
     "data": {
      "text/plain": [
       "LinearRegression(copy_X=True, fit_intercept=True, n_jobs=None, normalize=False)"
      ]
     },
     "execution_count": 146,
     "metadata": {},
     "output_type": "execute_result"
    }
   ],
   "source": [
    "linear.fit(X_train, y_train)"
   ]
  },
  {
   "cell_type": "code",
   "execution_count": 147,
   "metadata": {},
   "outputs": [],
   "source": [
    "y_pred=linear.predict(X_test)"
   ]
  },
  {
   "cell_type": "code",
   "execution_count": 148,
   "metadata": {},
   "outputs": [],
   "source": [
    "test_mse = mean_squared_error(y_test, y_pred)\n",
    "test_rmse = np.sqrt(test_mse)\n",
    "test_mae = mean_absolute_error(y_test, y_pred)"
   ]
  },
  {
   "cell_type": "code",
   "execution_count": 149,
   "metadata": {},
   "outputs": [
    {
     "name": "stdout",
     "output_type": "stream",
     "text": [
      "0.025576190407701194 0.15992557771570248 0.12083370443836111\n"
     ]
    }
   ],
   "source": [
    "print(test_mse, test_rmse, test_mae)"
   ]
  },
  {
   "cell_type": "code",
   "execution_count": 150,
   "metadata": {},
   "outputs": [],
   "source": [
    "cross_v = cross_val_score(linear, X_train, y_train, cv=5, \n",
    " scoring=\"neg_mean_squared_error\")"
   ]
  },
  {
   "cell_type": "code",
   "execution_count": 151,
   "metadata": {},
   "outputs": [
    {
     "data": {
      "text/plain": [
       "array([-0.03527024, -0.05559637, -0.03197567, -0.02148517, -0.04258881])"
      ]
     },
     "execution_count": 151,
     "metadata": {},
     "output_type": "execute_result"
    }
   ],
   "source": [
    "cross_v"
   ]
  },
  {
   "cell_type": "code",
   "execution_count": 152,
   "metadata": {},
   "outputs": [
    {
     "data": {
      "text/plain": [
       "0.7840073913001724"
      ]
     },
     "execution_count": 152,
     "metadata": {},
     "output_type": "execute_result"
    }
   ],
   "source": [
    "linear.score(X_train, y_train)"
   ]
  },
  {
   "cell_type": "code",
   "execution_count": 153,
   "metadata": {},
   "outputs": [
    {
     "data": {
      "text/plain": [
       "0.8227846901508706"
      ]
     },
     "execution_count": 153,
     "metadata": {},
     "output_type": "execute_result"
    }
   ],
   "source": [
    "linear.score(X_test, y_test)"
   ]
  },
  {
   "cell_type": "markdown",
   "metadata": {},
   "source": [
    "### Lasso"
   ]
  },
  {
   "cell_type": "code",
   "execution_count": 175,
   "metadata": {},
   "outputs": [],
   "source": [
    "alpha=[0.00001, 0.0001, 0.001, 0.01, 0.1, 0.25, 0.5, 0.75, 1]"
   ]
  },
  {
   "cell_type": "code",
   "execution_count": 176,
   "metadata": {},
   "outputs": [],
   "source": [
    "param_grid = dict(alpha=alpha)"
   ]
  },
  {
   "cell_type": "code",
   "execution_count": 177,
   "metadata": {},
   "outputs": [],
   "source": [
    "lasso_cv = GridSearchCV(estimator = lasso, param_grid = param_grid, cv=5)"
   ]
  },
  {
   "cell_type": "code",
   "execution_count": 178,
   "metadata": {},
   "outputs": [
    {
     "data": {
      "text/plain": [
       "GridSearchCV(cv=5, error_score=nan,\n",
       "             estimator=Lasso(alpha=1.0, copy_X=True, fit_intercept=True,\n",
       "                             max_iter=1000, normalize=False, positive=False,\n",
       "                             precompute=False, random_state=None,\n",
       "                             selection='cyclic', tol=0.0001, warm_start=False),\n",
       "             iid='deprecated', n_jobs=None,\n",
       "             param_grid={'alpha': [1e-05, 0.0001, 0.001, 0.01, 0.1, 0.25, 0.5,\n",
       "                                   0.75, 1]},\n",
       "             pre_dispatch='2*n_jobs', refit=True, return_train_score=False,\n",
       "             scoring=None, verbose=0)"
      ]
     },
     "execution_count": 178,
     "metadata": {},
     "output_type": "execute_result"
    }
   ],
   "source": [
    "lasso_cv.fit(X_train, y_train)"
   ]
  },
  {
   "cell_type": "code",
   "execution_count": 180,
   "metadata": {},
   "outputs": [],
   "source": [
    "best_param=lasso_cv.best_params_"
   ]
  },
  {
   "cell_type": "code",
   "execution_count": 181,
   "metadata": {},
   "outputs": [
    {
     "data": {
      "text/plain": [
       "{'alpha': 1e-05}"
      ]
     },
     "execution_count": 181,
     "metadata": {},
     "output_type": "execute_result"
    }
   ],
   "source": [
    "best_param"
   ]
  },
  {
   "cell_type": "code",
   "execution_count": 182,
   "metadata": {},
   "outputs": [],
   "source": [
    "lasso_best=Lasso(**best_param)"
   ]
  },
  {
   "cell_type": "code",
   "execution_count": 183,
   "metadata": {},
   "outputs": [
    {
     "name": "stdout",
     "output_type": "stream",
     "text": [
      "[0.84599    0.58825006 0.82552892 0.81682916 0.8049107 ]\n"
     ]
    }
   ],
   "source": [
    "print(cross_val_score(lasso_best, X_train, y_train, cv=5))"
   ]
  },
  {
   "cell_type": "code",
   "execution_count": 184,
   "metadata": {},
   "outputs": [
    {
     "data": {
      "text/plain": [
       "Lasso(alpha=1e-05, copy_X=True, fit_intercept=True, max_iter=1000,\n",
       "      normalize=False, positive=False, precompute=False, random_state=None,\n",
       "      selection='cyclic', tol=0.0001, warm_start=False)"
      ]
     },
     "execution_count": 184,
     "metadata": {},
     "output_type": "execute_result"
    }
   ],
   "source": [
    "lasso_best.fit(X_train, y_train)"
   ]
  },
  {
   "cell_type": "code",
   "execution_count": 185,
   "metadata": {},
   "outputs": [
    {
     "data": {
      "text/plain": [
       "0.7834689190324025"
      ]
     },
     "execution_count": 185,
     "metadata": {},
     "output_type": "execute_result"
    }
   ],
   "source": [
    "lasso_best.score(X_test, y_test)"
   ]
  },
  {
   "cell_type": "markdown",
   "metadata": {},
   "source": [
    "### Ridge"
   ]
  },
  {
   "cell_type": "code",
   "execution_count": 186,
   "metadata": {},
   "outputs": [],
   "source": [
    "alpha=[0.05, 0.1, 1, 5, 10, 20, 50, 100, 150, 200, 250]"
   ]
  },
  {
   "cell_type": "code",
   "execution_count": 187,
   "metadata": {},
   "outputs": [],
   "source": [
    "param_grid = dict(alpha=alpha)"
   ]
  },
  {
   "cell_type": "code",
   "execution_count": 188,
   "metadata": {},
   "outputs": [],
   "source": [
    "ridge_cv = GridSearchCV(estimator = ridge, param_grid = param_grid, cv=5)"
   ]
  },
  {
   "cell_type": "code",
   "execution_count": 189,
   "metadata": {},
   "outputs": [
    {
     "data": {
      "text/plain": [
       "GridSearchCV(cv=5, error_score=nan,\n",
       "             estimator=Ridge(alpha=1.0, copy_X=True, fit_intercept=True,\n",
       "                             max_iter=None, normalize=False, random_state=None,\n",
       "                             solver='auto', tol=0.001),\n",
       "             iid='deprecated', n_jobs=None,\n",
       "             param_grid={'alpha': [0.05, 0.1, 1, 5, 10, 20, 50, 100, 150, 200,\n",
       "                                   250]},\n",
       "             pre_dispatch='2*n_jobs', refit=True, return_train_score=False,\n",
       "             scoring=None, verbose=0)"
      ]
     },
     "execution_count": 189,
     "metadata": {},
     "output_type": "execute_result"
    }
   ],
   "source": [
    "ridge_cv.fit(X_train, y_train)"
   ]
  },
  {
   "cell_type": "code",
   "execution_count": 190,
   "metadata": {},
   "outputs": [],
   "source": [
    "best_param=ridge_cv.best_params_"
   ]
  },
  {
   "cell_type": "code",
   "execution_count": 191,
   "metadata": {},
   "outputs": [
    {
     "data": {
      "text/plain": [
       "{'alpha': 0.05}"
      ]
     },
     "execution_count": 191,
     "metadata": {},
     "output_type": "execute_result"
    }
   ],
   "source": [
    "best_param"
   ]
  },
  {
   "cell_type": "code",
   "execution_count": 192,
   "metadata": {},
   "outputs": [],
   "source": [
    "ridge_best=Ridge(**best_param)"
   ]
  },
  {
   "cell_type": "code",
   "execution_count": 193,
   "metadata": {},
   "outputs": [
    {
     "name": "stdout",
     "output_type": "stream",
     "text": [
      "[0.84598911 0.58825851 0.82552876 0.81682838 0.80491151]\n"
     ]
    }
   ],
   "source": [
    "print(cross_val_score(ridge_best, X_train, y_train, cv=5))"
   ]
  },
  {
   "cell_type": "code",
   "execution_count": 194,
   "metadata": {},
   "outputs": [
    {
     "data": {
      "text/plain": [
       "Ridge(alpha=0.05, copy_X=True, fit_intercept=True, max_iter=None,\n",
       "      normalize=False, random_state=None, solver='auto', tol=0.001)"
      ]
     },
     "execution_count": 194,
     "metadata": {},
     "output_type": "execute_result"
    }
   ],
   "source": [
    "ridge_best.fit(X_train, y_train)"
   ]
  },
  {
   "cell_type": "code",
   "execution_count": 195,
   "metadata": {},
   "outputs": [
    {
     "data": {
      "text/plain": [
       "0.7834677689573312"
      ]
     },
     "execution_count": 195,
     "metadata": {},
     "output_type": "execute_result"
    }
   ],
   "source": [
    "ridge_best.score(X_test, y_test)"
   ]
  },
  {
   "cell_type": "code",
   "execution_count": null,
   "metadata": {},
   "outputs": [],
   "source": []
  }
 ],
 "metadata": {
  "kernelspec": {
   "display_name": "Python 3",
   "language": "python",
   "name": "python3"
  },
  "language_info": {
   "codemirror_mode": {
    "name": "ipython",
    "version": 3
   },
   "file_extension": ".py",
   "mimetype": "text/x-python",
   "name": "python",
   "nbconvert_exporter": "python",
   "pygments_lexer": "ipython3",
   "version": "3.7.6"
  }
 },
 "nbformat": 4,
 "nbformat_minor": 4
}
