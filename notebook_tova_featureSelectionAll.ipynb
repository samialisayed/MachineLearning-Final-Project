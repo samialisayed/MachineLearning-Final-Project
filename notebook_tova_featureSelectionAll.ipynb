{
 "cells": [
  {
   "cell_type": "markdown",
   "metadata": {},
   "source": [
    "notebook_deniz_f_selection"
   ]
  },
  {
   "cell_type": "markdown",
   "metadata": {},
   "source": [
    "1. Variance Thresholder"
   ]
  },
  {
   "cell_type": "code",
   "execution_count": 1,
   "metadata": {},
   "outputs": [],
   "source": [
    "# X_train, X_test, y_train, y_test = train_test_split(data, target)\n",
    "# scaler = StandardScaler()\n",
    "# scaled_data = scaler.fit_transform(X_train)\n",
    "\n",
    "# thresholder = VarianceThreshold(threshold=.5)\n",
    "# data_var_th = thresholder.fit_transform(scaled_data)"
   ]
  },
  {
   "cell_type": "markdown",
   "metadata": {},
   "source": [
    "Next looked at was SelectKBest and a similar alternative SelectFromModel - I model these out so that you can choose the correct k from a visual instead of using the sklearn model"
   ]
  },
  {
   "cell_type": "markdown",
   "metadata": {},
   "source": [
    "notebook_deniz_feature_selection_last"
   ]
  },
  {
   "cell_type": "markdown",
   "metadata": {},
   "source": [
    "Again looks at SelectKBest. Next is RFE which is very similar to SelectFromModel and again will be modeled manuallys so that visually we can decide on k and then again SelectFromModel."
   ]
  },
  {
   "cell_type": "markdown",
   "metadata": {},
   "source": [
    "notebook_sami_GBR"
   ]
  },
  {
   "cell_type": "markdown",
   "metadata": {},
   "source": [
    "2. Gradient Boosting\n",
    "\n",
    "This in addition to RandomForest will be used as the two models using in RFE and SelectFromModel analysis"
   ]
  },
  {
   "cell_type": "code",
   "execution_count": 2,
   "metadata": {},
   "outputs": [],
   "source": [
    "# GBR = GradientBoostingRegressor(learning_rate= 0.1, n_estimators=1500, max_depth=2)\n",
    "# GBR.fit(x_train, y_train)\n",
    "# important_cols = x.columns[GBR.feature_importances_ > 0.0]\n",
    "# values = GBR.feature_importances_[GBR.feature_importances_ > 0.0]"
   ]
  },
  {
   "cell_type": "markdown",
   "metadata": {},
   "source": [
    "notebook_tova_features2"
   ]
  },
  {
   "cell_type": "code",
   "execution_count": 3,
   "metadata": {},
   "outputs": [],
   "source": [
    "# feature_importances = sorted(zip(X_train.columns, rf.feature_importances_), reverse=True, key=lambda x: x[1])\n",
    "# feature_df = pd.DataFrame(feature_importances, columns=['feature', 'importance'])\n",
    "\n",
    "# plt.figure(figsize=(18,6))\n",
    "# plt.bar(feature_df.feature[:25], feature_df.importance[:25])\n",
    "# plt.xticks(rotation=45)\n",
    "# plt.title('Feature Importances')\n",
    "# plt.tight_layout();"
   ]
  },
  {
   "cell_type": "code",
   "execution_count": 4,
   "metadata": {},
   "outputs": [],
   "source": [
    "# train_scores = []\n",
    "# f1_macro = []\n",
    "# accuracy = []\n",
    "# recall = []\n",
    "# precision = []\n",
    "\n",
    "# #Going to run the RFClassification on \n",
    "# for num_features in range(1,max_num_features):\n",
    "#     features = list(feature_df.iloc[:num_features, 0].values) + ['SalePrice']\n",
    "#     data_partial = data.loc[:, features]\n",
    "#     X_train, X_test, y_train, y_test = get_binned_train_test_split(data_partial)\n",
    "#     rf = RandomForestClassifier(**best_params)\n",
    "#     rf.fit(X_train, y_train)\n",
    "#     y_pred = rf.predict(X_test)\n",
    "#     f1_macro.append(f1_score(y_test, y_pred, average='macro'))\n",
    "#     accuracy.append(accuracy_score(y_test, y_pred))\n",
    "#     recall.append(recall_score(y_test, y_pred, average='macro'))\n",
    "#     precision.append(precision_score(y_test, y_pred, average='macro'))\n",
    "#     train_scores.append(rf.score(X_train, y_train))"
   ]
  },
  {
   "cell_type": "code",
   "execution_count": 5,
   "metadata": {},
   "outputs": [],
   "source": [
    "# plt.figure(figsize=(18,8))\n",
    "# plt.plot(range(1, max_num_features), train_scores, label='train_score')\n",
    "# plt.plot(range(1, max_num_features), f1_macro, label='f1_macro')\n",
    "# plt.plot(range(1, max_num_features), accuracy, label='accuracy')\n",
    "# plt.plot(range(1, max_num_features), recall, label='recall')\n",
    "# plt.plot(range(1, max_num_features), precision, label='precision')\n",
    "# plt.xticks(range(1, max_num_features))\n",
    "# plt.legend()\n",
    "# plt.xlabel('Number of features used')\n",
    "# plt.ylabel('metric score %')"
   ]
  },
  {
   "cell_type": "markdown",
   "metadata": {},
   "source": [
    "### Ok what now?\n",
    "The tools we have are: Variance, GBR feature imporances, and RF feature importances.\n",
    "We need to decide which to use and what the threshold is or what the number of features we want is.\n",
    "\n",
    "We will do this seperately for Classification (SVM, RFC) and for Regression (lasso, ridge, and RF). "
   ]
  },
  {
   "cell_type": "code",
   "execution_count": 84,
   "metadata": {},
   "outputs": [],
   "source": [
    "import pandas as pd\n",
    "import numpy as np\n",
    "import matplotlib.pyplot as plt\n",
    "from sklearn.preprocessing import StandardScaler\n",
    "from sklearn.feature_selection import VarianceThreshold\n",
    "from sklearn.ensemble import GradientBoostingRegressor, RandomForestRegressor, RandomForestClassifier\n",
    "from sklearn.linear_model import Lasso, Ridge\n",
    "from sklearn.model_selection import train_test_split, cross_validate\n",
    "from sklearn.model_selection import GridSearchCV\n",
    "from sklearn.pipeline import Pipeline"
   ]
  },
  {
   "cell_type": "code",
   "execution_count": 7,
   "metadata": {},
   "outputs": [],
   "source": [
    "data = pd.read_csv('Numerical_train.csv')"
   ]
  },
  {
   "cell_type": "code",
   "execution_count": 8,
   "metadata": {},
   "outputs": [],
   "source": [
    "target = data.SalePrice"
   ]
  },
  {
   "cell_type": "code",
   "execution_count": 9,
   "metadata": {},
   "outputs": [],
   "source": [
    "target_log = np.log(target)"
   ]
  },
  {
   "cell_type": "code",
   "execution_count": 85,
   "metadata": {},
   "outputs": [],
   "source": [
    "target_binned = [0 if price <= 120000 else 1 if price <= 200000 else 2 for price in target]"
   ]
  },
  {
   "cell_type": "code",
   "execution_count": 10,
   "metadata": {},
   "outputs": [],
   "source": [
    "data = data.drop(['SalePrice', 'Unnamed: 0'], axis=1)"
   ]
  },
  {
   "cell_type": "markdown",
   "metadata": {},
   "source": [
    "#### Variance"
   ]
  },
  {
   "cell_type": "markdown",
   "metadata": {},
   "source": [
    "getting variance per feature"
   ]
  },
  {
   "cell_type": "code",
   "execution_count": 11,
   "metadata": {},
   "outputs": [],
   "source": [
    "thresholder = VarianceThreshold()"
   ]
  },
  {
   "cell_type": "code",
   "execution_count": 12,
   "metadata": {},
   "outputs": [
    {
     "data": {
      "text/plain": [
       "VarianceThreshold(threshold=0.0)"
      ]
     },
     "execution_count": 12,
     "metadata": {},
     "output_type": "execute_result"
    }
   ],
   "source": [
    "thresholder.fit(data)"
   ]
  },
  {
   "cell_type": "code",
   "execution_count": 13,
   "metadata": {},
   "outputs": [],
   "source": [
    "feature_importances_var = sorted(zip(data.columns, thresholder.variances_), reverse=True, key=lambda x: x[1])\n",
    "feature_df_var = pd.DataFrame(feature_importances_var, columns=['feature', 'importance'])"
   ]
  },
  {
   "cell_type": "code",
   "execution_count": 14,
   "metadata": {},
   "outputs": [
    {
     "data": {
      "text/html": [
       "<div>\n",
       "<style scoped>\n",
       "    .dataframe tbody tr th:only-of-type {\n",
       "        vertical-align: middle;\n",
       "    }\n",
       "\n",
       "    .dataframe tbody tr th {\n",
       "        vertical-align: top;\n",
       "    }\n",
       "\n",
       "    .dataframe thead th {\n",
       "        text-align: right;\n",
       "    }\n",
       "</style>\n",
       "<table border=\"1\" class=\"dataframe\">\n",
       "  <thead>\n",
       "    <tr style=\"text-align: right;\">\n",
       "      <th></th>\n",
       "      <th>feature</th>\n",
       "      <th>importance</th>\n",
       "    </tr>\n",
       "  </thead>\n",
       "  <tbody>\n",
       "    <tr>\n",
       "      <th>0</th>\n",
       "      <td>LotArea</td>\n",
       "      <td>9.962523e+07</td>\n",
       "    </tr>\n",
       "    <tr>\n",
       "      <th>1</th>\n",
       "      <td>GrLivArea</td>\n",
       "      <td>2.761195e+05</td>\n",
       "    </tr>\n",
       "    <tr>\n",
       "      <th>2</th>\n",
       "      <td>MiscVal</td>\n",
       "      <td>2.461368e+05</td>\n",
       "    </tr>\n",
       "    <tr>\n",
       "      <th>3</th>\n",
       "      <td>BsmtFinSF1</td>\n",
       "      <td>2.078905e+05</td>\n",
       "    </tr>\n",
       "    <tr>\n",
       "      <th>4</th>\n",
       "      <td>BsmtUnfSF</td>\n",
       "      <td>1.952234e+05</td>\n",
       "    </tr>\n",
       "  </tbody>\n",
       "</table>\n",
       "</div>"
      ],
      "text/plain": [
       "      feature    importance\n",
       "0     LotArea  9.962523e+07\n",
       "1   GrLivArea  2.761195e+05\n",
       "2     MiscVal  2.461368e+05\n",
       "3  BsmtFinSF1  2.078905e+05\n",
       "4   BsmtUnfSF  1.952234e+05"
      ]
     },
     "execution_count": 14,
     "metadata": {},
     "output_type": "execute_result"
    }
   ],
   "source": [
    "feature_df_var.head()"
   ]
  },
  {
   "cell_type": "code",
   "execution_count": 15,
   "metadata": {},
   "outputs": [
    {
     "data": {
      "text/html": [
       "<div>\n",
       "<style scoped>\n",
       "    .dataframe tbody tr th:only-of-type {\n",
       "        vertical-align: middle;\n",
       "    }\n",
       "\n",
       "    .dataframe tbody tr th {\n",
       "        vertical-align: top;\n",
       "    }\n",
       "\n",
       "    .dataframe thead th {\n",
       "        text-align: right;\n",
       "    }\n",
       "</style>\n",
       "<table border=\"1\" class=\"dataframe\">\n",
       "  <thead>\n",
       "    <tr style=\"text-align: right;\">\n",
       "      <th></th>\n",
       "      <th>feature</th>\n",
       "      <th>importance</th>\n",
       "    </tr>\n",
       "  </thead>\n",
       "  <tbody>\n",
       "    <tr>\n",
       "      <th>151</th>\n",
       "      <td>Exterior2nd_Other</td>\n",
       "      <td>0.000685</td>\n",
       "    </tr>\n",
       "    <tr>\n",
       "      <th>152</th>\n",
       "      <td>Exterior1st_AsphShn</td>\n",
       "      <td>0.000685</td>\n",
       "    </tr>\n",
       "    <tr>\n",
       "      <th>153</th>\n",
       "      <td>Exterior1st_ImStucc</td>\n",
       "      <td>0.000685</td>\n",
       "    </tr>\n",
       "    <tr>\n",
       "      <th>154</th>\n",
       "      <td>Exterior1st_CBlock</td>\n",
       "      <td>0.000685</td>\n",
       "    </tr>\n",
       "    <tr>\n",
       "      <th>155</th>\n",
       "      <td>Exterior2nd_CBlock</td>\n",
       "      <td>0.000685</td>\n",
       "    </tr>\n",
       "  </tbody>\n",
       "</table>\n",
       "</div>"
      ],
      "text/plain": [
       "                 feature  importance\n",
       "151    Exterior2nd_Other    0.000685\n",
       "152  Exterior1st_AsphShn    0.000685\n",
       "153  Exterior1st_ImStucc    0.000685\n",
       "154   Exterior1st_CBlock    0.000685\n",
       "155   Exterior2nd_CBlock    0.000685"
      ]
     },
     "execution_count": 15,
     "metadata": {},
     "output_type": "execute_result"
    }
   ],
   "source": [
    "feature_df_var.tail()"
   ]
  },
  {
   "cell_type": "markdown",
   "metadata": {},
   "source": [
    "#### GBR"
   ]
  },
  {
   "cell_type": "markdown",
   "metadata": {},
   "source": [
    "Now getting feature importances from GBR"
   ]
  },
  {
   "cell_type": "markdown",
   "metadata": {},
   "source": [
    "First lets decide the best parameters"
   ]
  },
  {
   "cell_type": "code",
   "execution_count": 16,
   "metadata": {},
   "outputs": [],
   "source": [
    "GBR = GradientBoostingRegressor()"
   ]
  },
  {
   "cell_type": "code",
   "execution_count": 17,
   "metadata": {},
   "outputs": [],
   "source": [
    "param_grid = dict(learning_rate = [1, .1, .001, .0001],\n",
    "                  n_estimators = [100, 500, 1000, 1500],\n",
    "                  max_depth = [1, 2, 5, 10])"
   ]
  },
  {
   "cell_type": "code",
   "execution_count": 18,
   "metadata": {},
   "outputs": [],
   "source": [
    "gridsearch_gbr = GridSearchCV(estimator = GBR, param_grid = param_grid, cv=3)"
   ]
  },
  {
   "cell_type": "code",
   "execution_count": 19,
   "metadata": {},
   "outputs": [],
   "source": [
    "# gridsearch_gbr.fit(data, target_log)"
   ]
  },
  {
   "cell_type": "code",
   "execution_count": 20,
   "metadata": {},
   "outputs": [],
   "source": [
    "# gridsearch_gbr.best_params_"
   ]
  },
  {
   "cell_type": "code",
   "execution_count": 21,
   "metadata": {},
   "outputs": [],
   "source": [
    "best_params_gbr = {'learning_rate': 0.1, 'max_depth': 2, 'n_estimators': 500}"
   ]
  },
  {
   "cell_type": "markdown",
   "metadata": {},
   "source": [
    "Ok, now that we got the best parameters lets find feature importances."
   ]
  },
  {
   "cell_type": "code",
   "execution_count": 22,
   "metadata": {},
   "outputs": [],
   "source": [
    "GBR = GradientBoostingRegressor(**best_params_gbr)"
   ]
  },
  {
   "cell_type": "code",
   "execution_count": 23,
   "metadata": {},
   "outputs": [
    {
     "data": {
      "text/plain": [
       "GradientBoostingRegressor(alpha=0.9, criterion='friedman_mse', init=None,\n",
       "                          learning_rate=0.1, loss='ls', max_depth=2,\n",
       "                          max_features=None, max_leaf_nodes=None,\n",
       "                          min_impurity_decrease=0.0, min_impurity_split=None,\n",
       "                          min_samples_leaf=1, min_samples_split=2,\n",
       "                          min_weight_fraction_leaf=0.0, n_estimators=500,\n",
       "                          n_iter_no_change=None, presort='auto',\n",
       "                          random_state=None, subsample=1.0, tol=0.0001,\n",
       "                          validation_fraction=0.1, verbose=0, warm_start=False)"
      ]
     },
     "execution_count": 23,
     "metadata": {},
     "output_type": "execute_result"
    }
   ],
   "source": [
    "GBR.fit(data, target_log)"
   ]
  },
  {
   "cell_type": "code",
   "execution_count": 24,
   "metadata": {},
   "outputs": [],
   "source": [
    "feature_importances_gbr = sorted(zip(data.columns, GBR.feature_importances_), reverse=True, key=lambda x: x[1])\n",
    "feature_df_gbr = pd.DataFrame(feature_importances_gbr, columns=['feature', 'importance'])"
   ]
  },
  {
   "cell_type": "code",
   "execution_count": 25,
   "metadata": {},
   "outputs": [
    {
     "data": {
      "text/html": [
       "<div>\n",
       "<style scoped>\n",
       "    .dataframe tbody tr th:only-of-type {\n",
       "        vertical-align: middle;\n",
       "    }\n",
       "\n",
       "    .dataframe tbody tr th {\n",
       "        vertical-align: top;\n",
       "    }\n",
       "\n",
       "    .dataframe thead th {\n",
       "        text-align: right;\n",
       "    }\n",
       "</style>\n",
       "<table border=\"1\" class=\"dataframe\">\n",
       "  <thead>\n",
       "    <tr style=\"text-align: right;\">\n",
       "      <th></th>\n",
       "      <th>feature</th>\n",
       "      <th>importance</th>\n",
       "    </tr>\n",
       "  </thead>\n",
       "  <tbody>\n",
       "    <tr>\n",
       "      <th>0</th>\n",
       "      <td>OverallQual</td>\n",
       "      <td>0.379716</td>\n",
       "    </tr>\n",
       "    <tr>\n",
       "      <th>1</th>\n",
       "      <td>GrLivArea</td>\n",
       "      <td>0.180138</td>\n",
       "    </tr>\n",
       "    <tr>\n",
       "      <th>2</th>\n",
       "      <td>TotalBsmtSF</td>\n",
       "      <td>0.064626</td>\n",
       "    </tr>\n",
       "    <tr>\n",
       "      <th>3</th>\n",
       "      <td>GarageArea</td>\n",
       "      <td>0.038809</td>\n",
       "    </tr>\n",
       "    <tr>\n",
       "      <th>4</th>\n",
       "      <td>KitchenQual</td>\n",
       "      <td>0.037775</td>\n",
       "    </tr>\n",
       "  </tbody>\n",
       "</table>\n",
       "</div>"
      ],
      "text/plain": [
       "       feature  importance\n",
       "0  OverallQual    0.379716\n",
       "1    GrLivArea    0.180138\n",
       "2  TotalBsmtSF    0.064626\n",
       "3   GarageArea    0.038809\n",
       "4  KitchenQual    0.037775"
      ]
     },
     "execution_count": 25,
     "metadata": {},
     "output_type": "execute_result"
    }
   ],
   "source": [
    "feature_df_gbr.head()"
   ]
  },
  {
   "cell_type": "code",
   "execution_count": 26,
   "metadata": {},
   "outputs": [
    {
     "data": {
      "text/html": [
       "<div>\n",
       "<style scoped>\n",
       "    .dataframe tbody tr th:only-of-type {\n",
       "        vertical-align: middle;\n",
       "    }\n",
       "\n",
       "    .dataframe tbody tr th {\n",
       "        vertical-align: top;\n",
       "    }\n",
       "\n",
       "    .dataframe thead th {\n",
       "        text-align: right;\n",
       "    }\n",
       "</style>\n",
       "<table border=\"1\" class=\"dataframe\">\n",
       "  <thead>\n",
       "    <tr style=\"text-align: right;\">\n",
       "      <th></th>\n",
       "      <th>feature</th>\n",
       "      <th>importance</th>\n",
       "    </tr>\n",
       "  </thead>\n",
       "  <tbody>\n",
       "    <tr>\n",
       "      <th>151</th>\n",
       "      <td>SaleType_CWD</td>\n",
       "      <td>0.0</td>\n",
       "    </tr>\n",
       "    <tr>\n",
       "      <th>152</th>\n",
       "      <td>SaleType_Con</td>\n",
       "      <td>0.0</td>\n",
       "    </tr>\n",
       "    <tr>\n",
       "      <th>153</th>\n",
       "      <td>SaleType_ConLI</td>\n",
       "      <td>0.0</td>\n",
       "    </tr>\n",
       "    <tr>\n",
       "      <th>154</th>\n",
       "      <td>SaleType_ConLw</td>\n",
       "      <td>0.0</td>\n",
       "    </tr>\n",
       "    <tr>\n",
       "      <th>155</th>\n",
       "      <td>SaleType_WD</td>\n",
       "      <td>0.0</td>\n",
       "    </tr>\n",
       "  </tbody>\n",
       "</table>\n",
       "</div>"
      ],
      "text/plain": [
       "            feature  importance\n",
       "151    SaleType_CWD         0.0\n",
       "152    SaleType_Con         0.0\n",
       "153  SaleType_ConLI         0.0\n",
       "154  SaleType_ConLw         0.0\n",
       "155     SaleType_WD         0.0"
      ]
     },
     "execution_count": 26,
     "metadata": {},
     "output_type": "execute_result"
    }
   ],
   "source": [
    "feature_df_gbr.tail()"
   ]
  },
  {
   "cell_type": "markdown",
   "metadata": {},
   "source": [
    "#### RF"
   ]
  },
  {
   "cell_type": "markdown",
   "metadata": {},
   "source": [
    "Now getting feature importances from RF"
   ]
  },
  {
   "cell_type": "markdown",
   "metadata": {},
   "source": [
    "First lets decide the best parameters"
   ]
  },
  {
   "cell_type": "code",
   "execution_count": 27,
   "metadata": {},
   "outputs": [],
   "source": [
    "# from deniz's GridSearchCV\n",
    "best_params_rf={'max_depth': 50,\n",
    " 'min_samples_leaf': 2,\n",
    " 'min_samples_split': 4,\n",
    " 'n_estimators': 300}"
   ]
  },
  {
   "cell_type": "code",
   "execution_count": 28,
   "metadata": {},
   "outputs": [],
   "source": [
    "RF = RandomForestRegressor()"
   ]
  },
  {
   "cell_type": "code",
   "execution_count": 29,
   "metadata": {},
   "outputs": [],
   "source": [
    "param_grid = dict(max_depth = [45, 50, 55],\n",
    "                  min_samples_leaf = [1, 2, 3],\n",
    "                  min_samples_split = [3, 4, 5],\n",
    "                  n_estimators = [250, 300, 350, 400, 450])"
   ]
  },
  {
   "cell_type": "code",
   "execution_count": 30,
   "metadata": {},
   "outputs": [],
   "source": [
    "gridsearch_rf = GridSearchCV(estimator = RF, param_grid = param_grid, cv=3)"
   ]
  },
  {
   "cell_type": "code",
   "execution_count": 31,
   "metadata": {},
   "outputs": [],
   "source": [
    "# gridsearch_rf.fit(data, target_log)"
   ]
  },
  {
   "cell_type": "code",
   "execution_count": 32,
   "metadata": {},
   "outputs": [],
   "source": [
    "# gridsearch_rf.best_params_"
   ]
  },
  {
   "cell_type": "code",
   "execution_count": 33,
   "metadata": {},
   "outputs": [],
   "source": [
    "best_params_rf = {'max_depth': 35,\n",
    "                  'min_samples_leaf': 2,\n",
    "                  'min_samples_split': 4,\n",
    "                  'n_estimators': 250}"
   ]
  },
  {
   "cell_type": "markdown",
   "metadata": {},
   "source": [
    "Ok, now that we got the best parameters lets find feature importances."
   ]
  },
  {
   "cell_type": "code",
   "execution_count": 34,
   "metadata": {},
   "outputs": [],
   "source": [
    "RF = RandomForestRegressor(**best_params_rf)"
   ]
  },
  {
   "cell_type": "code",
   "execution_count": 35,
   "metadata": {},
   "outputs": [
    {
     "data": {
      "text/plain": [
       "RandomForestRegressor(bootstrap=True, criterion='mse', max_depth=35,\n",
       "                      max_features='auto', max_leaf_nodes=None,\n",
       "                      min_impurity_decrease=0.0, min_impurity_split=None,\n",
       "                      min_samples_leaf=2, min_samples_split=4,\n",
       "                      min_weight_fraction_leaf=0.0, n_estimators=250,\n",
       "                      n_jobs=None, oob_score=False, random_state=None,\n",
       "                      verbose=0, warm_start=False)"
      ]
     },
     "execution_count": 35,
     "metadata": {},
     "output_type": "execute_result"
    }
   ],
   "source": [
    "RF.fit(data, target_log)"
   ]
  },
  {
   "cell_type": "code",
   "execution_count": 36,
   "metadata": {},
   "outputs": [],
   "source": [
    "feature_importances_rf = sorted(zip(data.columns, RF.feature_importances_), reverse=True, key=lambda x: x[1])\n",
    "feature_df_rf = pd.DataFrame(feature_importances_rf, columns=['feature', 'importance'])"
   ]
  },
  {
   "cell_type": "code",
   "execution_count": 37,
   "metadata": {},
   "outputs": [
    {
     "data": {
      "text/html": [
       "<div>\n",
       "<style scoped>\n",
       "    .dataframe tbody tr th:only-of-type {\n",
       "        vertical-align: middle;\n",
       "    }\n",
       "\n",
       "    .dataframe tbody tr th {\n",
       "        vertical-align: top;\n",
       "    }\n",
       "\n",
       "    .dataframe thead th {\n",
       "        text-align: right;\n",
       "    }\n",
       "</style>\n",
       "<table border=\"1\" class=\"dataframe\">\n",
       "  <thead>\n",
       "    <tr style=\"text-align: right;\">\n",
       "      <th></th>\n",
       "      <th>feature</th>\n",
       "      <th>importance</th>\n",
       "    </tr>\n",
       "  </thead>\n",
       "  <tbody>\n",
       "    <tr>\n",
       "      <th>0</th>\n",
       "      <td>OverallQual</td>\n",
       "      <td>0.569186</td>\n",
       "    </tr>\n",
       "    <tr>\n",
       "      <th>1</th>\n",
       "      <td>GrLivArea</td>\n",
       "      <td>0.115620</td>\n",
       "    </tr>\n",
       "    <tr>\n",
       "      <th>2</th>\n",
       "      <td>TotalBsmtSF</td>\n",
       "      <td>0.048142</td>\n",
       "    </tr>\n",
       "    <tr>\n",
       "      <th>3</th>\n",
       "      <td>GarageArea</td>\n",
       "      <td>0.040494</td>\n",
       "    </tr>\n",
       "    <tr>\n",
       "      <th>4</th>\n",
       "      <td>1stFlrSF</td>\n",
       "      <td>0.024521</td>\n",
       "    </tr>\n",
       "  </tbody>\n",
       "</table>\n",
       "</div>"
      ],
      "text/plain": [
       "       feature  importance\n",
       "0  OverallQual    0.569186\n",
       "1    GrLivArea    0.115620\n",
       "2  TotalBsmtSF    0.048142\n",
       "3   GarageArea    0.040494\n",
       "4     1stFlrSF    0.024521"
      ]
     },
     "execution_count": 37,
     "metadata": {},
     "output_type": "execute_result"
    }
   ],
   "source": [
    "feature_df_rf.head()"
   ]
  },
  {
   "cell_type": "code",
   "execution_count": 38,
   "metadata": {},
   "outputs": [
    {
     "data": {
      "text/html": [
       "<div>\n",
       "<style scoped>\n",
       "    .dataframe tbody tr th:only-of-type {\n",
       "        vertical-align: middle;\n",
       "    }\n",
       "\n",
       "    .dataframe tbody tr th {\n",
       "        vertical-align: top;\n",
       "    }\n",
       "\n",
       "    .dataframe thead th {\n",
       "        text-align: right;\n",
       "    }\n",
       "</style>\n",
       "<table border=\"1\" class=\"dataframe\">\n",
       "  <thead>\n",
       "    <tr style=\"text-align: right;\">\n",
       "      <th></th>\n",
       "      <th>feature</th>\n",
       "      <th>importance</th>\n",
       "    </tr>\n",
       "  </thead>\n",
       "  <tbody>\n",
       "    <tr>\n",
       "      <th>151</th>\n",
       "      <td>SaleType_CWD</td>\n",
       "      <td>0.0</td>\n",
       "    </tr>\n",
       "    <tr>\n",
       "      <th>152</th>\n",
       "      <td>SaleType_Con</td>\n",
       "      <td>0.0</td>\n",
       "    </tr>\n",
       "    <tr>\n",
       "      <th>153</th>\n",
       "      <td>SaleType_ConLI</td>\n",
       "      <td>0.0</td>\n",
       "    </tr>\n",
       "    <tr>\n",
       "      <th>154</th>\n",
       "      <td>SaleType_Oth</td>\n",
       "      <td>0.0</td>\n",
       "    </tr>\n",
       "    <tr>\n",
       "      <th>155</th>\n",
       "      <td>SaleCondition_AdjLand</td>\n",
       "      <td>0.0</td>\n",
       "    </tr>\n",
       "  </tbody>\n",
       "</table>\n",
       "</div>"
      ],
      "text/plain": [
       "                   feature  importance\n",
       "151           SaleType_CWD         0.0\n",
       "152           SaleType_Con         0.0\n",
       "153         SaleType_ConLI         0.0\n",
       "154           SaleType_Oth         0.0\n",
       "155  SaleCondition_AdjLand         0.0"
      ]
     },
     "execution_count": 38,
     "metadata": {},
     "output_type": "execute_result"
    }
   ],
   "source": [
    "feature_df_rf.tail()"
   ]
  },
  {
   "cell_type": "markdown",
   "metadata": {},
   "source": [
    "#### ok so now we have 3 lists of feature importances: variance, gbr, and rf\n",
    "\n",
    "now lets compare then and see the overlap"
   ]
  },
  {
   "cell_type": "code",
   "execution_count": 39,
   "metadata": {},
   "outputs": [],
   "source": [
    "features_compare = pd.DataFrame()"
   ]
  },
  {
   "cell_type": "code",
   "execution_count": 40,
   "metadata": {},
   "outputs": [],
   "source": [
    "features_compare['var'] = feature_df_var.feature\n",
    "features_compare['gbr'] = feature_df_gbr.feature\n",
    "features_compare['rf'] = feature_df_rf.feature"
   ]
  },
  {
   "cell_type": "code",
   "execution_count": 41,
   "metadata": {},
   "outputs": [
    {
     "data": {
      "text/html": [
       "<div>\n",
       "<style scoped>\n",
       "    .dataframe tbody tr th:only-of-type {\n",
       "        vertical-align: middle;\n",
       "    }\n",
       "\n",
       "    .dataframe tbody tr th {\n",
       "        vertical-align: top;\n",
       "    }\n",
       "\n",
       "    .dataframe thead th {\n",
       "        text-align: right;\n",
       "    }\n",
       "</style>\n",
       "<table border=\"1\" class=\"dataframe\">\n",
       "  <thead>\n",
       "    <tr style=\"text-align: right;\">\n",
       "      <th></th>\n",
       "      <th>var</th>\n",
       "      <th>gbr</th>\n",
       "      <th>rf</th>\n",
       "    </tr>\n",
       "  </thead>\n",
       "  <tbody>\n",
       "    <tr>\n",
       "      <th>0</th>\n",
       "      <td>LotArea</td>\n",
       "      <td>OverallQual</td>\n",
       "      <td>OverallQual</td>\n",
       "    </tr>\n",
       "    <tr>\n",
       "      <th>1</th>\n",
       "      <td>GrLivArea</td>\n",
       "      <td>GrLivArea</td>\n",
       "      <td>GrLivArea</td>\n",
       "    </tr>\n",
       "    <tr>\n",
       "      <th>2</th>\n",
       "      <td>MiscVal</td>\n",
       "      <td>TotalBsmtSF</td>\n",
       "      <td>TotalBsmtSF</td>\n",
       "    </tr>\n",
       "    <tr>\n",
       "      <th>3</th>\n",
       "      <td>BsmtFinSF1</td>\n",
       "      <td>GarageArea</td>\n",
       "      <td>GarageArea</td>\n",
       "    </tr>\n",
       "    <tr>\n",
       "      <th>4</th>\n",
       "      <td>BsmtUnfSF</td>\n",
       "      <td>KitchenQual</td>\n",
       "      <td>1stFlrSF</td>\n",
       "    </tr>\n",
       "    <tr>\n",
       "      <th>5</th>\n",
       "      <td>TotalBsmtSF</td>\n",
       "      <td>ExterQual</td>\n",
       "      <td>BsmtFinSF1</td>\n",
       "    </tr>\n",
       "    <tr>\n",
       "      <th>6</th>\n",
       "      <td>2ndFlrSF</td>\n",
       "      <td>GarageFinish</td>\n",
       "      <td>YearBuilt</td>\n",
       "    </tr>\n",
       "    <tr>\n",
       "      <th>7</th>\n",
       "      <td>1stFlrSF</td>\n",
       "      <td>LotArea</td>\n",
       "      <td>LotArea</td>\n",
       "    </tr>\n",
       "    <tr>\n",
       "      <th>8</th>\n",
       "      <td>GarageArea</td>\n",
       "      <td>BsmtFinSF1</td>\n",
       "      <td>CentralAir</td>\n",
       "    </tr>\n",
       "    <tr>\n",
       "      <th>9</th>\n",
       "      <td>MasVnrArea</td>\n",
       "      <td>YearBuilt</td>\n",
       "      <td>OverallCond</td>\n",
       "    </tr>\n",
       "  </tbody>\n",
       "</table>\n",
       "</div>"
      ],
      "text/plain": [
       "           var           gbr           rf\n",
       "0      LotArea   OverallQual  OverallQual\n",
       "1    GrLivArea     GrLivArea    GrLivArea\n",
       "2      MiscVal   TotalBsmtSF  TotalBsmtSF\n",
       "3   BsmtFinSF1    GarageArea   GarageArea\n",
       "4    BsmtUnfSF   KitchenQual     1stFlrSF\n",
       "5  TotalBsmtSF     ExterQual   BsmtFinSF1\n",
       "6     2ndFlrSF  GarageFinish    YearBuilt\n",
       "7     1stFlrSF       LotArea      LotArea\n",
       "8   GarageArea    BsmtFinSF1   CentralAir\n",
       "9   MasVnrArea     YearBuilt  OverallCond"
      ]
     },
     "execution_count": 41,
     "metadata": {},
     "output_type": "execute_result"
    }
   ],
   "source": [
    "features_compare.head(10)"
   ]
  },
  {
   "cell_type": "code",
   "execution_count": 42,
   "metadata": {},
   "outputs": [],
   "source": [
    "def top_n_features(n):\n",
    "    return features_compare.iloc[:n, :].stack().value_counts()"
   ]
  },
  {
   "cell_type": "code",
   "execution_count": 43,
   "metadata": {},
   "outputs": [
    {
     "data": {
      "image/png": "[encoded data removed]",
      "text/plain": [
       "<Figure size 1296x432 with 1 Axes>"
      ]
     },
     "metadata": {
      "needs_background": "light"
     },
     "output_type": "display_data"
    }
   ],
   "source": [
    "plt.figure(figsize=(18,6))\n",
    "top_n_features(10)[:40].plot(kind='bar')\n",
    "plt.xticks(rotation=45);\n",
    "plt.yticks([1,2,3]);"
   ]
  },
  {
   "cell_type": "markdown",
   "metadata": {},
   "source": [
    "You can see from here the features that all, two, and at least one model thinks are the top 20 in importance"
   ]
  },
  {
   "cell_type": "markdown",
   "metadata": {},
   "source": [
    "### Now for each of the models we will do some feature selection and then compare the best of each models"
   ]
  },
  {
   "cell_type": "markdown",
   "metadata": {},
   "source": [
    "#### Lasso"
   ]
  },
  {
   "cell_type": "code",
   "execution_count": 44,
   "metadata": {},
   "outputs": [],
   "source": [
    "max_num_features = 51"
   ]
  },
  {
   "cell_type": "code",
   "execution_count": 45,
   "metadata": {},
   "outputs": [],
   "source": [
    "lasso_train_scores = pd.DataFrame()\n",
    "lasso_test_scores = pd.DataFrame()"
   ]
  },
  {
   "cell_type": "code",
   "execution_count": 46,
   "metadata": {},
   "outputs": [],
   "source": [
    "for name, feature_df in zip(['var', 'gbr', 'rf'], [feature_df_var, feature_df_gbr, feature_df_rf]):\n",
    "    lasso_r_squared_train = []\n",
    "    lasso_r_squared_test = []\n",
    "    \n",
    "    for num_features in range(1,max_num_features):\n",
    "        features = list(feature_df.iloc[:num_features, 0].values)\n",
    "        data_partial = data.loc[:, features]\n",
    "        \n",
    "        pipeline_lasso = Pipeline([('scaler', StandardScaler()), ('estimator', Lasso(alpha=.0005))])\n",
    "        scores = cross_validate(pipeline_lasso, data_partial, target_log, cv=3, scoring='r2', return_train_score=True)\n",
    "        \n",
    "        lasso_r_squared_train.append(scores['train_score'].mean())\n",
    "        lasso_r_squared_test.append(scores['test_score'].mean())\n",
    "    \n",
    "    lasso_train_scores[name] = lasso_r_squared_train\n",
    "    lasso_test_scores[name] = lasso_r_squared_test"
   ]
  },
  {
   "cell_type": "code",
   "execution_count": 47,
   "metadata": {},
   "outputs": [
    {
     "data": {
      "image/png": "[encoded data removed]",
      "text/plain": [
       "<Figure size 1296x1008 with 3 Axes>"
      ]
     },
     "metadata": {
      "needs_background": "light"
     },
     "output_type": "display_data"
    }
   ],
   "source": [
    "fig, axes = plt.subplots(3,1, figsize=(18,14))\n",
    "\n",
    "for ax, name in zip([0,1,2], ['var', 'gbr', 'rf']):\n",
    "    axes[ax].plot(range(1, max_num_features), lasso_train_scores[name], label='train')\n",
    "    axes[ax].plot(range(1, max_num_features), lasso_test_scores[name], label='test')\n",
    "    axes[ax].legend()\n",
    "    axes[ax].set_ylabel('metric score')\n",
    "    axes[ax].title.set_text(name)\n",
    "    axes[ax].set_xticks(range(1, max_num_features))\n",
    "    axes[ax].grid()\n",
    "    axes[ax].set_ylim(.65,.9)\n",
    "    \n",
    "plt.xlabel('Number of features used');"
   ]
  },
  {
   "cell_type": "code",
   "execution_count": 49,
   "metadata": {},
   "outputs": [
    {
     "name": "stdout",
     "output_type": "stream",
     "text": [
      "Compare to scores on full data\n",
      "train score, 0.8871349432559611\n",
      "test score, 0.8542116650816064\n"
     ]
    }
   ],
   "source": [
    "cross_validate(pipeline_lasso, data, target_log, cv=3, scoring='r2', return_train_score=True)\n",
    "print('Compare to scores on full data')\n",
    "print('train score,' , scores['train_score'].mean())\n",
    "print('test score,' , scores['test_score'].mean())"
   ]
  },
  {
   "cell_type": "markdown",
   "metadata": {},
   "source": [
    "#### Ridge"
   ]
  },
  {
   "cell_type": "code",
   "execution_count": 50,
   "metadata": {},
   "outputs": [],
   "source": [
    "max_num_features = 51"
   ]
  },
  {
   "cell_type": "code",
   "execution_count": 51,
   "metadata": {},
   "outputs": [],
   "source": [
    "ridge_train_scores = pd.DataFrame()\n",
    "ridge_test_scores = pd.DataFrame()"
   ]
  },
  {
   "cell_type": "code",
   "execution_count": 52,
   "metadata": {},
   "outputs": [],
   "source": [
    "for name, feature_df in zip(['var', 'gbr', 'rf'], [feature_df_var, feature_df_gbr, feature_df_rf]):\n",
    "    ridge_r_squared_train = []\n",
    "    ridge_r_squared_test = []\n",
    "    \n",
    "    for num_features in range(1,max_num_features):\n",
    "        features = list(feature_df.iloc[:num_features, 0].values)\n",
    "        data_partial = data.loc[:, features]\n",
    "        \n",
    "        pipeline_ridge = Pipeline([('scaler', StandardScaler()), ('estimator', Ridge(alpha=5))])\n",
    "        scores = cross_validate(pipeline_ridge, data_partial, target_log, cv=3, scoring='r2', return_train_score=True)\n",
    "        \n",
    "        ridge_r_squared_train.append(scores['train_score'].mean())\n",
    "        ridge_r_squared_test.append(scores['test_score'].mean())\n",
    "    \n",
    "    ridge_train_scores[name] = ridge_r_squared_train\n",
    "    ridge_test_scores[name] = ridge_r_squared_test"
   ]
  },
  {
   "cell_type": "code",
   "execution_count": 53,
   "metadata": {},
   "outputs": [
    {
     "data": {
      "image/png": "[encoded data removed]",
      "text/plain": [
       "<Figure size 1296x1008 with 3 Axes>"
      ]
     },
     "metadata": {
      "needs_background": "light"
     },
     "output_type": "display_data"
    }
   ],
   "source": [
    "fig, axes = plt.subplots(3,1, figsize=(18,14))\n",
    "\n",
    "for ax, name in zip([0,1,2], ['var', 'gbr', 'rf']):\n",
    "    axes[ax].plot(range(1, max_num_features), ridge_train_scores[name], label='train')\n",
    "    axes[ax].plot(range(1, max_num_features), ridge_test_scores[name], label='test')\n",
    "    axes[ax].legend()\n",
    "    axes[ax].set_ylabel('metric score')\n",
    "    axes[ax].title.set_text(name)\n",
    "    axes[ax].set_xticks(range(1, max_num_features))\n",
    "    axes[ax].grid()\n",
    "    axes[ax].set_ylim(.65,.9)\n",
    "    \n",
    "plt.xlabel('Number of features used');"
   ]
  },
  {
   "cell_type": "code",
   "execution_count": 54,
   "metadata": {},
   "outputs": [
    {
     "name": "stdout",
     "output_type": "stream",
     "text": [
      "Compare to scores on full data\n",
      "train score, 0.8872525589548973\n",
      "test score, 0.8531415790165214\n"
     ]
    }
   ],
   "source": [
    "cross_validate(pipeline_ridge, data, target_log, cv=3, scoring='r2', return_train_score=True)\n",
    "print('Compare to scores on full data')\n",
    "print('train score,' , scores['train_score'].mean())\n",
    "print('test score,' , scores['test_score'].mean())"
   ]
  },
  {
   "cell_type": "markdown",
   "metadata": {},
   "source": [
    "#### Random Forest"
   ]
  },
  {
   "cell_type": "code",
   "execution_count": 55,
   "metadata": {},
   "outputs": [],
   "source": [
    "max_num_features = 31"
   ]
  },
  {
   "cell_type": "code",
   "execution_count": 56,
   "metadata": {},
   "outputs": [],
   "source": [
    "rf_train_scores = pd.DataFrame()\n",
    "rf_test_scores = pd.DataFrame()"
   ]
  },
  {
   "cell_type": "code",
   "execution_count": 57,
   "metadata": {},
   "outputs": [],
   "source": [
    "for name, feature_df in zip(['var', 'gbr', 'rf'], [feature_df_var, feature_df_gbr, feature_df_rf]):\n",
    "    rf_r_squared_train = []\n",
    "    rf_r_squared_test = []\n",
    "    \n",
    "    for num_features in range(1,max_num_features):\n",
    "        features = list(feature_df.iloc[:num_features, 0].values)\n",
    "        data_partial = data.loc[:, features]\n",
    "        \n",
    "        rf = RandomForestRegressor(**best_params_rf)\n",
    "        scores = cross_validate(rf, data_partial, target_log, cv=3, scoring='r2', return_train_score=True)\n",
    "        \n",
    "        rf_r_squared_train.append(scores['train_score'].mean())\n",
    "        rf_r_squared_test.append(scores['test_score'].mean())\n",
    "    \n",
    "    rf_train_scores[name] = rf_r_squared_train\n",
    "    rf_test_scores[name] = rf_r_squared_test"
   ]
  },
  {
   "cell_type": "code",
   "execution_count": 58,
   "metadata": {},
   "outputs": [
    {
     "data": {
      "image/png": "[encoded data removed]",
      "text/plain": [
       "<Figure size 1296x1008 with 3 Axes>"
      ]
     },
     "metadata": {
      "needs_background": "light"
     },
     "output_type": "display_data"
    }
   ],
   "source": [
    "fig, axes = plt.subplots(3,1, figsize=(18,14))\n",
    "\n",
    "for ax, name in zip([0,1,2], ['var', 'gbr', 'rf']):\n",
    "    axes[ax].plot(range(1, max_num_features), rf_train_scores[name], label='train')\n",
    "    axes[ax].plot(range(1, max_num_features), rf_test_scores[name], label='test')\n",
    "    axes[ax].legend()\n",
    "    axes[ax].set_ylabel('metric score')\n",
    "    axes[ax].title.set_text(name)\n",
    "    axes[ax].set_xticks(range(1, max_num_features))\n",
    "    axes[ax].grid()\n",
    "    axes[ax].set_ylim(.65,1)\n",
    "    \n",
    "plt.xlabel('Number of features used');"
   ]
  },
  {
   "cell_type": "code",
   "execution_count": 59,
   "metadata": {},
   "outputs": [
    {
     "name": "stdout",
     "output_type": "stream",
     "text": [
      "Compare to scores on full data\n",
      "train score, 0.9720376657627918\n",
      "test score, 0.8677401458165214\n"
     ]
    }
   ],
   "source": [
    "cross_validate(rf, data, target_log, cv=3, scoring='r2', return_train_score=True)\n",
    "print('Compare to scores on full data')\n",
    "print('train score,' , scores['train_score'].mean())\n",
    "print('test score,' , scores['test_score'].mean())"
   ]
  },
  {
   "cell_type": "markdown",
   "metadata": {},
   "source": [
    "### Comparing features"
   ]
  },
  {
   "cell_type": "markdown",
   "metadata": {},
   "source": [
    "#### set of top 10"
   ]
  },
  {
   "cell_type": "markdown",
   "metadata": {},
   "source": [
    "top_10 is the set of all features that falls into the top 10 features of any of the feature rating technique"
   ]
  },
  {
   "cell_type": "code",
   "execution_count": 60,
   "metadata": {},
   "outputs": [],
   "source": [
    "top_10 = top_n_features(10).index"
   ]
  },
  {
   "cell_type": "code",
   "execution_count": 61,
   "metadata": {},
   "outputs": [],
   "source": [
    "data_partial = data.loc[:, top_10]"
   ]
  },
  {
   "cell_type": "code",
   "execution_count": 62,
   "metadata": {},
   "outputs": [
    {
     "name": "stdout",
     "output_type": "stream",
     "text": [
      "lasso train:  0.852497031340791\n",
      "lasso test:  0.8357059303236385\n",
      "ridge train:  0.852610265839897\n",
      "ridge test:  0.8357030260639359\n",
      "rf train:  0.9689364467134401\n",
      "rf test:  0.8651701891678313\n"
     ]
    }
   ],
   "source": [
    "pipeline_lasso = Pipeline([('scaler', StandardScaler()), ('estimator', Lasso(alpha=.0005))])\n",
    "scores_lasso = cross_validate(pipeline_lasso, data_partial, target_log, cv=3, scoring='r2', return_train_score=True)\n",
    "\n",
    "pipeline_ridge = Pipeline([('scaler', StandardScaler()), ('estimator', Ridge(alpha=5))])\n",
    "scores_ridge = cross_validate(pipeline_ridge, data_partial, target_log, cv=3, scoring='r2', return_train_score=True)\n",
    "    \n",
    "rf = RandomForestRegressor(**best_params_rf)\n",
    "scores_rf = cross_validate(rf, data_partial, target_log, cv=3, scoring='r2', return_train_score=True)\n",
    "\n",
    "for model, scores in zip(['lasso', 'ridge', 'rf'], [scores_lasso, scores_ridge, scores_rf]):\n",
    "        print(model, 'train: ', scores['train_score'].mean())\n",
    "        print(model, 'test: ', scores['test_score'].mean())"
   ]
  },
  {
   "cell_type": "code",
   "execution_count": 63,
   "metadata": {},
   "outputs": [
    {
     "data": {
      "text/plain": [
       "17"
      ]
     },
     "execution_count": 63,
     "metadata": {},
     "output_type": "execute_result"
    }
   ],
   "source": [
    "len(top_10)"
   ]
  },
  {
   "cell_type": "code",
   "execution_count": 64,
   "metadata": {},
   "outputs": [
    {
     "data": {
      "text/plain": [
       "Index(['GarageArea', 'LotArea', 'TotalBsmtSF', 'GrLivArea', 'BsmtFinSF1',\n",
       "       '1stFlrSF', 'YearBuilt', 'OverallQual', 'GarageFinish', '2ndFlrSF',\n",
       "       'ExterQual', 'MasVnrArea', 'BsmtUnfSF', 'MiscVal', 'CentralAir',\n",
       "       'KitchenQual', 'OverallCond'],\n",
       "      dtype='object')"
      ]
     },
     "execution_count": 64,
     "metadata": {},
     "output_type": "execute_result"
    }
   ],
   "source": [
    "top_10"
   ]
  },
  {
   "cell_type": "markdown",
   "metadata": {},
   "source": [
    "##### For random forest these are enough to achieve optimum results."
   ]
  },
  {
   "cell_type": "markdown",
   "metadata": {},
   "source": [
    "#### set of top 20"
   ]
  },
  {
   "cell_type": "code",
   "execution_count": 65,
   "metadata": {},
   "outputs": [],
   "source": [
    "top_20 = top_n_features(20).index"
   ]
  },
  {
   "cell_type": "markdown",
   "metadata": {},
   "source": [
    "top_20 is the set of all features that falls into the top 20 features of any of the feature rating technique"
   ]
  },
  {
   "cell_type": "code",
   "execution_count": 66,
   "metadata": {},
   "outputs": [],
   "source": [
    "data_partial = data.loc[:, top_20]"
   ]
  },
  {
   "cell_type": "code",
   "execution_count": 67,
   "metadata": {},
   "outputs": [
    {
     "name": "stdout",
     "output_type": "stream",
     "text": [
      "lasso train:  0.8720700130111124\n",
      "lasso test:  0.8442417985615048\n",
      "ridge train:  0.8721523140560872\n",
      "ridge test:  0.8436000933808434\n",
      "rf train:  0.9718552632197525\n",
      "rf test:  0.8690189873036518\n"
     ]
    }
   ],
   "source": [
    "pipeline_lasso = Pipeline([('scaler', StandardScaler()), ('estimator', Lasso(alpha=.0005))])\n",
    "scores_lasso = cross_validate(pipeline_lasso, data_partial, target_log, cv=3, scoring='r2', return_train_score=True)\n",
    "\n",
    "pipeline_ridge = Pipeline([('scaler', StandardScaler()), ('estimator', Ridge(alpha=5))])\n",
    "scores_ridge = cross_validate(pipeline_ridge, data_partial, target_log, cv=3, scoring='r2', return_train_score=True)\n",
    "    \n",
    "rf = RandomForestRegressor(**best_params_rf)\n",
    "scores_rf = cross_validate(rf, data_partial, target_log, cv=3, scoring='r2', return_train_score=True)\n",
    "\n",
    "for model, scores in zip(['lasso', 'ridge', 'rf'], [scores_lasso, scores_ridge, scores_rf]):\n",
    "        print(model, 'train: ', scores['train_score'].mean())\n",
    "        print(model, 'test: ', scores['test_score'].mean())"
   ]
  },
  {
   "cell_type": "code",
   "execution_count": 68,
   "metadata": {},
   "outputs": [
    {
     "data": {
      "text/plain": [
       "30"
      ]
     },
     "execution_count": 68,
     "metadata": {},
     "output_type": "execute_result"
    }
   ],
   "source": [
    "len(top_20)"
   ]
  },
  {
   "cell_type": "markdown",
   "metadata": {},
   "source": [
    "#### set of top 30"
   ]
  },
  {
   "cell_type": "code",
   "execution_count": 69,
   "metadata": {},
   "outputs": [],
   "source": [
    "top_30 = top_n_features(30).index"
   ]
  },
  {
   "cell_type": "markdown",
   "metadata": {},
   "source": [
    "top_30 is the set of all features that falls into the top 30 features of any of the feature rating technique"
   ]
  },
  {
   "cell_type": "code",
   "execution_count": 70,
   "metadata": {},
   "outputs": [],
   "source": [
    "data_partial = data.loc[:, top_30]"
   ]
  },
  {
   "cell_type": "code",
   "execution_count": 71,
   "metadata": {},
   "outputs": [
    {
     "name": "stdout",
     "output_type": "stream",
     "text": [
      "lasso train:  0.8872662538706849\n",
      "lasso test:  0.8557524810265443\n",
      "ridge train:  0.8873415940733475\n",
      "ridge test:  0.8552451777135991\n",
      "rf train:  0.9726718422628938\n",
      "rf test:  0.8690365735539828\n"
     ]
    }
   ],
   "source": [
    "pipeline_lasso = Pipeline([('scaler', StandardScaler()), ('estimator', Lasso(alpha=.0005))])\n",
    "scores_lasso = cross_validate(pipeline_lasso, data_partial, target_log, cv=3, scoring='r2', return_train_score=True)\n",
    "\n",
    "pipeline_ridge = Pipeline([('scaler', StandardScaler()), ('estimator', Ridge(alpha=5))])\n",
    "scores_ridge = cross_validate(pipeline_ridge, data_partial, target_log, cv=3, scoring='r2', return_train_score=True)\n",
    "    \n",
    "rf = RandomForestRegressor(**best_params_rf)\n",
    "scores_rf = cross_validate(rf, data_partial, target_log, cv=3, scoring='r2', return_train_score=True)\n",
    "\n",
    "for model, scores in zip(['lasso', 'ridge', 'rf'], [scores_lasso, scores_ridge, scores_rf]):\n",
    "        print(model, 'train: ', scores['train_score'].mean())\n",
    "        print(model, 'test: ', scores['test_score'].mean())"
   ]
  },
  {
   "cell_type": "code",
   "execution_count": 72,
   "metadata": {},
   "outputs": [
    {
     "data": {
      "text/plain": [
       "44"
      ]
     },
     "execution_count": 72,
     "metadata": {},
     "output_type": "execute_result"
    }
   ],
   "source": [
    "len(top_30)"
   ]
  },
  {
   "cell_type": "markdown",
   "metadata": {},
   "source": [
    "#### set of top 40"
   ]
  },
  {
   "cell_type": "code",
   "execution_count": 73,
   "metadata": {},
   "outputs": [],
   "source": [
    "top_40 = top_n_features(40).index"
   ]
  },
  {
   "cell_type": "markdown",
   "metadata": {},
   "source": [
    "top_40 is the set of all features that falls into the top 40 features of any of the feature rating technique"
   ]
  },
  {
   "cell_type": "code",
   "execution_count": 74,
   "metadata": {},
   "outputs": [],
   "source": [
    "data_partial = data.loc[:, top_40]"
   ]
  },
  {
   "cell_type": "code",
   "execution_count": 75,
   "metadata": {},
   "outputs": [
    {
     "name": "stdout",
     "output_type": "stream",
     "text": [
      "lasso train:  0.8955803251770528\n",
      "lasso test:  0.8596472204083657\n",
      "ridge train:  0.8956724920415274\n",
      "ridge test:  0.8588616293315336\n",
      "rf train:  0.9724983100199411\n",
      "rf test:  0.8671731796149608\n"
     ]
    }
   ],
   "source": [
    "pipeline_lasso = Pipeline([('scaler', StandardScaler()), ('estimator', Lasso(alpha=.0005))])\n",
    "scores_lasso = cross_validate(pipeline_lasso, data_partial, target_log, cv=3, scoring='r2', return_train_score=True)\n",
    "\n",
    "pipeline_ridge = Pipeline([('scaler', StandardScaler()), ('estimator', Ridge(alpha=5))])\n",
    "scores_ridge = cross_validate(pipeline_ridge, data_partial, target_log, cv=3, scoring='r2', return_train_score=True)\n",
    "    \n",
    "rf = RandomForestRegressor(**best_params_rf)\n",
    "scores_rf = cross_validate(rf, data_partial, target_log, cv=3, scoring='r2', return_train_score=True)\n",
    "\n",
    "for model, scores in zip(['lasso', 'ridge', 'rf'], [scores_lasso, scores_ridge, scores_rf]):\n",
    "        print(model, 'train: ', scores['train_score'].mean())\n",
    "        print(model, 'test: ', scores['test_score'].mean())"
   ]
  },
  {
   "cell_type": "code",
   "execution_count": 76,
   "metadata": {},
   "outputs": [
    {
     "data": {
      "text/plain": [
       "54"
      ]
     },
     "execution_count": 76,
     "metadata": {},
     "output_type": "execute_result"
    }
   ],
   "source": [
    "len(top_40)"
   ]
  },
  {
   "cell_type": "markdown",
   "metadata": {},
   "source": [
    "#### set of top 50"
   ]
  },
  {
   "cell_type": "code",
   "execution_count": 77,
   "metadata": {},
   "outputs": [],
   "source": [
    "top_50 = top_n_features(50).index"
   ]
  },
  {
   "cell_type": "markdown",
   "metadata": {},
   "source": [
    "top_50 is the set of all features that falls into the top 50 features of any of the feature rating technique"
   ]
  },
  {
   "cell_type": "code",
   "execution_count": 78,
   "metadata": {},
   "outputs": [],
   "source": [
    "data_partial = data.loc[:, top_50]"
   ]
  },
  {
   "cell_type": "code",
   "execution_count": 86,
   "metadata": {},
   "outputs": [
    {
     "name": "stdout",
     "output_type": "stream",
     "text": [
      "lasso train:  0.9015389924985774\n",
      "lasso test:  0.8590437472236431\n",
      "ridge train:  0.9018296161532803\n",
      "ridge test:  0.8578230302614817\n",
      "rf train:  0.9689321375485133\n",
      "rf test:  0.8604127570704542\n"
     ]
    }
   ],
   "source": [
    "pipeline_lasso = Pipeline([('scaler', StandardScaler()), ('estimator', Lasso(alpha=.0005))])\n",
    "scores_lasso = cross_validate(pipeline_lasso, data_partial, target_log, cv=3, scoring='r2', return_train_score=True)\n",
    "\n",
    "pipeline_ridge = Pipeline([('scaler', StandardScaler()), ('estimator', Ridge(alpha=5))])\n",
    "scores_ridge = cross_validate(pipeline_ridge, data_partial, target_log, cv=3, scoring='r2', return_train_score=True)\n",
    "    \n",
    "rf = RandomForestRegressor(**best_params_rf)\n",
    "scores_rf = cross_validate(rf, data_partial, target_log, cv=3, scoring='r2', return_train_score=True)\n",
    "\n",
    "for model, scores in zip(['lasso', 'ridge', 'rf'], [scores_lasso, scores_ridge, scores_rf]):\n",
    "        print(model, 'train: ', scores['train_score'].mean())\n",
    "        print(model, 'test: ', scores['test_score'].mean())"
   ]
  },
  {
   "cell_type": "code",
   "execution_count": 80,
   "metadata": {},
   "outputs": [
    {
     "data": {
      "text/plain": [
       "72"
      ]
     },
     "execution_count": 80,
     "metadata": {},
     "output_type": "execute_result"
    }
   ],
   "source": [
    "len(top_50)"
   ]
  },
  {
   "cell_type": "markdown",
   "metadata": {},
   "source": [
    "### Classification models"
   ]
  },
  {
   "cell_type": "code",
   "execution_count": 81,
   "metadata": {},
   "outputs": [],
   "source": [
    "best_params_rfc={'max_depth': 20,\n",
    " 'min_samples_leaf': 2,\n",
    " 'min_samples_split': 8,\n",
    " 'n_estimators': 100}"
   ]
  },
  {
   "cell_type": "code",
   "execution_count": 82,
   "metadata": {},
   "outputs": [],
   "source": [
    "max_num_features = 31"
   ]
  },
  {
   "cell_type": "code",
   "execution_count": 83,
   "metadata": {},
   "outputs": [],
   "source": [
    "rfc_train_scores = pd.DataFrame()\n",
    "rfc_test_scores = pd.DataFrame()"
   ]
  },
  {
   "cell_type": "code",
   "execution_count": 87,
   "metadata": {},
   "outputs": [],
   "source": [
    "for name, feature_df in zip(['var', 'gbr', 'rf'], [feature_df_var, feature_df_gbr, feature_df_rf]):\n",
    "    rfc_r_squared_train = []\n",
    "    rfc_r_squared_test = []\n",
    "    \n",
    "    for num_features in range(1,max_num_features):\n",
    "        features = list(feature_df.iloc[:num_features, 0].values)\n",
    "        data_partial = data.loc[:, features]\n",
    "        \n",
    "        rfc = RandomForestClassifier(**best_params_rfc)\n",
    "        scores_rfc = cross_validate(rfc, data_partial, target_binned, cv=3,\n",
    "                                scoring='f1_macro', return_train_score=True)\n",
    "        \n",
    "        rfc_r_squared_train.append(scores['train_score'].mean())\n",
    "        rfc_r_squared_test.append(scores['test_score'].mean())\n",
    "    \n",
    "    rfc_train_scores[name] = rfc_r_squared_train\n",
    "    rfc_test_scores[name] = rfc_r_squared_test"
   ]
  },
  {
   "cell_type": "code",
   "execution_count": 88,
   "metadata": {},
   "outputs": [
    {
     "data": {
      "image/png": "[encoded data removed]",
      "text/plain": [
       "<Figure size 1296x1008 with 3 Axes>"
      ]
     },
     "metadata": {
      "needs_background": "light"
     },
     "output_type": "display_data"
    }
   ],
   "source": [
    "fig, axes = plt.subplots(3,1, figsize=(18,14))\n",
    "\n",
    "for ax, name in zip([0,1,2], ['var', 'gbr', 'rf']):\n",
    "    axes[ax].plot(range(1, max_num_features), rfc_train_scores[name], label='train')\n",
    "    axes[ax].plot(range(1, max_num_features), rfc_test_scores[name], label='test')\n",
    "    axes[ax].legend()\n",
    "    axes[ax].set_ylabel('metric score')\n",
    "    axes[ax].title.set_text(name)\n",
    "    axes[ax].set_xticks(range(1, max_num_features))\n",
    "    axes[ax].grid()\n",
    "    axes[ax].set_ylim(.65,1)\n",
    "    \n",
    "plt.xlabel('Number of features used');"
   ]
  },
  {
   "cell_type": "markdown",
   "metadata": {},
   "source": [
    "#### set of top 10"
   ]
  },
  {
   "cell_type": "code",
   "execution_count": 112,
   "metadata": {},
   "outputs": [],
   "source": [
    "top_10 = top_n_features(10).index"
   ]
  },
  {
   "cell_type": "markdown",
   "metadata": {},
   "source": [
    "top_10 is the set of all features that falls into the top 10 features of any of the feature rating technique"
   ]
  },
  {
   "cell_type": "code",
   "execution_count": 113,
   "metadata": {},
   "outputs": [],
   "source": [
    "data_partial = data.loc[:, top_10]"
   ]
  },
  {
   "cell_type": "code",
   "execution_count": 114,
   "metadata": {},
   "outputs": [
    {
     "name": "stdout",
     "output_type": "stream",
     "text": [
      "rf train:  0.9630103274686662\n",
      "rf test:  0.8221383138306569\n"
     ]
    }
   ],
   "source": [
    "rfc = RandomForestClassifier(**best_params_rfc)\n",
    "scores = cross_validate(rfc, data_partial, target_binned, cv=3, scoring='f1_macro', return_train_score=True)\n",
    "\n",
    "print(model, 'train: ', scores['train_score'].mean())\n",
    "print(model, 'test: ', scores['test_score'].mean())"
   ]
  },
  {
   "cell_type": "code",
   "execution_count": 115,
   "metadata": {},
   "outputs": [
    {
     "data": {
      "text/plain": [
       "17"
      ]
     },
     "execution_count": 115,
     "metadata": {},
     "output_type": "execute_result"
    }
   ],
   "source": [
    "len(top_10)"
   ]
  },
  {
   "cell_type": "markdown",
   "metadata": {},
   "source": [
    "#### set of top 20"
   ]
  },
  {
   "cell_type": "code",
   "execution_count": 116,
   "metadata": {},
   "outputs": [],
   "source": [
    "top_20 = top_n_features(20).index"
   ]
  },
  {
   "cell_type": "markdown",
   "metadata": {},
   "source": [
    "top_20 is the set of all features that falls into the top 20 features of any of the feature rating technique"
   ]
  },
  {
   "cell_type": "code",
   "execution_count": 117,
   "metadata": {},
   "outputs": [],
   "source": [
    "data_partial = data.loc[:, top_20]"
   ]
  },
  {
   "cell_type": "code",
   "execution_count": 118,
   "metadata": {},
   "outputs": [
    {
     "name": "stdout",
     "output_type": "stream",
     "text": [
      "rf train:  0.9699348320568436\n",
      "rf test:  0.8368935333268973\n"
     ]
    }
   ],
   "source": [
    "rfc = RandomForestClassifier(**best_params_rfc)\n",
    "scores = cross_validate(rfc, data_partial, target_binned, cv=3, scoring='f1_macro', return_train_score=True)\n",
    "\n",
    "print(model, 'train: ', scores['train_score'].mean())\n",
    "print(model, 'test: ', scores['test_score'].mean())"
   ]
  },
  {
   "cell_type": "code",
   "execution_count": 119,
   "metadata": {},
   "outputs": [
    {
     "data": {
      "text/plain": [
       "30"
      ]
     },
     "execution_count": 119,
     "metadata": {},
     "output_type": "execute_result"
    }
   ],
   "source": [
    "len(top_20)"
   ]
  },
  {
   "cell_type": "markdown",
   "metadata": {},
   "source": [
    "#### set of top 30"
   ]
  },
  {
   "cell_type": "code",
   "execution_count": 120,
   "metadata": {},
   "outputs": [],
   "source": [
    "top_30 = top_n_features(30).index"
   ]
  },
  {
   "cell_type": "markdown",
   "metadata": {},
   "source": [
    "top_30 is the set of all features that falls into the top 30 features of any of the feature rating technique"
   ]
  },
  {
   "cell_type": "code",
   "execution_count": 121,
   "metadata": {},
   "outputs": [],
   "source": [
    "data_partial = data.loc[:, top_30]"
   ]
  },
  {
   "cell_type": "code",
   "execution_count": 122,
   "metadata": {},
   "outputs": [
    {
     "name": "stdout",
     "output_type": "stream",
     "text": [
      "rf train:  0.9732779203984275\n",
      "rf test:  0.8369615123797831\n"
     ]
    }
   ],
   "source": [
    "rfc = RandomForestClassifier(**best_params_rfc)\n",
    "scores = cross_validate(rfc, data_partial, target_binned, cv=3, scoring='f1_macro', return_train_score=True)\n",
    "\n",
    "print(model, 'train: ', scores['train_score'].mean())\n",
    "print(model, 'test: ', scores['test_score'].mean())"
   ]
  },
  {
   "cell_type": "code",
   "execution_count": 123,
   "metadata": {},
   "outputs": [
    {
     "data": {
      "text/plain": [
       "44"
      ]
     },
     "execution_count": 123,
     "metadata": {},
     "output_type": "execute_result"
    }
   ],
   "source": [
    "len(top_30)"
   ]
  },
  {
   "cell_type": "markdown",
   "metadata": {},
   "source": [
    "#### set of top 40"
   ]
  },
  {
   "cell_type": "code",
   "execution_count": 124,
   "metadata": {},
   "outputs": [],
   "source": [
    "top_40 = top_n_features(40).index"
   ]
  },
  {
   "cell_type": "markdown",
   "metadata": {},
   "source": [
    "top_40 is the set of all features that falls into the top 40 features of any of the feature rating technique"
   ]
  },
  {
   "cell_type": "code",
   "execution_count": 125,
   "metadata": {},
   "outputs": [],
   "source": [
    "data_partial = data.loc[:, top_40]"
   ]
  },
  {
   "cell_type": "code",
   "execution_count": 126,
   "metadata": {},
   "outputs": [
    {
     "name": "stdout",
     "output_type": "stream",
     "text": [
      "rf train:  0.9714859130062657\n",
      "rf test:  0.8371464891096942\n"
     ]
    }
   ],
   "source": [
    "rfc = RandomForestClassifier(**best_params_rfc)\n",
    "scores = cross_validate(rfc, data_partial, target_binned, cv=3, scoring='f1_macro', return_train_score=True)\n",
    "\n",
    "print(model, 'train: ', scores['train_score'].mean())\n",
    "print(model, 'test: ', scores['test_score'].mean())"
   ]
  },
  {
   "cell_type": "code",
   "execution_count": 111,
   "metadata": {},
   "outputs": [
    {
     "data": {
      "text/plain": [
       "54"
      ]
     },
     "execution_count": 111,
     "metadata": {},
     "output_type": "execute_result"
    }
   ],
   "source": [
    "len(top_40)"
   ]
  }
 ],
 "metadata": {
  "kernelspec": {
   "display_name": "Python 3",
   "language": "python",
   "name": "python3"
  },
  "language_info": {
   "codemirror_mode": {
    "name": "ipython",
    "version": 3
   },
   "file_extension": ".py",
   "mimetype": "text/x-python",
   "name": "python",
   "nbconvert_exporter": "python",
   "pygments_lexer": "ipython3",
   "version": "3.7.3"
  }
 },
 "nbformat": 4,
 "nbformat_minor": 2
}
